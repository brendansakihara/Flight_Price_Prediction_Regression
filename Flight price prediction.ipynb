{
 "cells": [
  {
   "cell_type": "markdown",
   "metadata": {},
   "source": [
    "# Flight Price Prediction\n",
    "\n",
    "I will be training regression models to predict flight prices based on features such as the airline, the departure time, the arrival time, departure location, arrival location, etc."
   ]
  },
  {
   "cell_type": "markdown",
   "metadata": {},
   "source": [
    "Dataset: https://www.kaggle.com/datasets/shubhambathwal/flight-price-prediction/data"
   ]
  },
  {
   "cell_type": "code",
   "execution_count": 549,
   "metadata": {},
   "outputs": [],
   "source": [
    "import pandas as pd\n",
    "import numpy as np\n",
    "import matplotlib.pyplot as plt\n",
    "import seaborn as sns\n",
    "from datetime import datetime\n",
    "import math\n",
    "\n",
    "plt.style.use('fivethirtyeight')\n",
    "color_pal = sns.color_palette()"
   ]
  },
  {
   "cell_type": "markdown",
   "metadata": {},
   "source": [
    "### Data Cleaning"
   ]
  },
  {
   "cell_type": "code",
   "execution_count": 550,
   "metadata": {},
   "outputs": [],
   "source": [
    "df_bus = pd.read_csv('business.csv')\n",
    "df_eco = pd.read_csv('economy.csv')"
   ]
  },
  {
   "cell_type": "code",
   "execution_count": 551,
   "metadata": {},
   "outputs": [
    {
     "data": {
      "text/html": [
       "<div>\n",
       "<style scoped>\n",
       "    .dataframe tbody tr th:only-of-type {\n",
       "        vertical-align: middle;\n",
       "    }\n",
       "\n",
       "    .dataframe tbody tr th {\n",
       "        vertical-align: top;\n",
       "    }\n",
       "\n",
       "    .dataframe thead th {\n",
       "        text-align: right;\n",
       "    }\n",
       "</style>\n",
       "<table border=\"1\" class=\"dataframe\">\n",
       "  <thead>\n",
       "    <tr style=\"text-align: right;\">\n",
       "      <th></th>\n",
       "      <th>date</th>\n",
       "      <th>airline</th>\n",
       "      <th>ch_code</th>\n",
       "      <th>num_code</th>\n",
       "      <th>dep_time</th>\n",
       "      <th>from</th>\n",
       "      <th>time_taken</th>\n",
       "      <th>stop</th>\n",
       "      <th>arr_time</th>\n",
       "      <th>to</th>\n",
       "      <th>price</th>\n",
       "    </tr>\n",
       "  </thead>\n",
       "  <tbody>\n",
       "    <tr>\n",
       "      <th>0</th>\n",
       "      <td>11-02-2022</td>\n",
       "      <td>Air India</td>\n",
       "      <td>AI</td>\n",
       "      <td>868</td>\n",
       "      <td>18:00</td>\n",
       "      <td>Delhi</td>\n",
       "      <td>02h 00m</td>\n",
       "      <td>non-stop</td>\n",
       "      <td>20:00</td>\n",
       "      <td>Mumbai</td>\n",
       "      <td>25,612</td>\n",
       "    </tr>\n",
       "    <tr>\n",
       "      <th>1</th>\n",
       "      <td>11-02-2022</td>\n",
       "      <td>Air India</td>\n",
       "      <td>AI</td>\n",
       "      <td>624</td>\n",
       "      <td>19:00</td>\n",
       "      <td>Delhi</td>\n",
       "      <td>02h 15m</td>\n",
       "      <td>non-stop</td>\n",
       "      <td>21:15</td>\n",
       "      <td>Mumbai</td>\n",
       "      <td>25,612</td>\n",
       "    </tr>\n",
       "    <tr>\n",
       "      <th>2</th>\n",
       "      <td>11-02-2022</td>\n",
       "      <td>Air India</td>\n",
       "      <td>AI</td>\n",
       "      <td>531</td>\n",
       "      <td>20:00</td>\n",
       "      <td>Delhi</td>\n",
       "      <td>24h 45m</td>\n",
       "      <td>1-stop\\n\\t\\t\\t\\t\\t\\t\\t\\t\\t\\t\\t\\t\\n\\t\\t\\t\\t\\t\\t...</td>\n",
       "      <td>20:45</td>\n",
       "      <td>Mumbai</td>\n",
       "      <td>42,220</td>\n",
       "    </tr>\n",
       "    <tr>\n",
       "      <th>3</th>\n",
       "      <td>11-02-2022</td>\n",
       "      <td>Air India</td>\n",
       "      <td>AI</td>\n",
       "      <td>839</td>\n",
       "      <td>21:25</td>\n",
       "      <td>Delhi</td>\n",
       "      <td>26h 30m</td>\n",
       "      <td>1-stop\\n\\t\\t\\t\\t\\t\\t\\t\\t\\t\\t\\t\\t\\n\\t\\t\\t\\t\\t\\t...</td>\n",
       "      <td>23:55</td>\n",
       "      <td>Mumbai</td>\n",
       "      <td>44,450</td>\n",
       "    </tr>\n",
       "    <tr>\n",
       "      <th>4</th>\n",
       "      <td>11-02-2022</td>\n",
       "      <td>Air India</td>\n",
       "      <td>AI</td>\n",
       "      <td>544</td>\n",
       "      <td>17:15</td>\n",
       "      <td>Delhi</td>\n",
       "      <td>06h 40m</td>\n",
       "      <td>1-stop\\n\\t\\t\\t\\t\\t\\t\\t\\t\\t\\t\\t\\t\\n\\t\\t\\t\\t\\t\\t...</td>\n",
       "      <td>23:55</td>\n",
       "      <td>Mumbai</td>\n",
       "      <td>46,690</td>\n",
       "    </tr>\n",
       "  </tbody>\n",
       "</table>\n",
       "</div>"
      ],
      "text/plain": [
       "         date    airline ch_code  num_code dep_time   from time_taken  \\\n",
       "0  11-02-2022  Air India      AI       868    18:00  Delhi    02h 00m   \n",
       "1  11-02-2022  Air India      AI       624    19:00  Delhi    02h 15m   \n",
       "2  11-02-2022  Air India      AI       531    20:00  Delhi    24h 45m   \n",
       "3  11-02-2022  Air India      AI       839    21:25  Delhi    26h 30m   \n",
       "4  11-02-2022  Air India      AI       544    17:15  Delhi    06h 40m   \n",
       "\n",
       "                                                stop arr_time      to   price  \n",
       "0                                          non-stop     20:00  Mumbai  25,612  \n",
       "1                                          non-stop     21:15  Mumbai  25,612  \n",
       "2  1-stop\\n\\t\\t\\t\\t\\t\\t\\t\\t\\t\\t\\t\\t\\n\\t\\t\\t\\t\\t\\t...    20:45  Mumbai  42,220  \n",
       "3  1-stop\\n\\t\\t\\t\\t\\t\\t\\t\\t\\t\\t\\t\\t\\n\\t\\t\\t\\t\\t\\t...    23:55  Mumbai  44,450  \n",
       "4  1-stop\\n\\t\\t\\t\\t\\t\\t\\t\\t\\t\\t\\t\\t\\n\\t\\t\\t\\t\\t\\t...    23:55  Mumbai  46,690  "
      ]
     },
     "execution_count": 551,
     "metadata": {},
     "output_type": "execute_result"
    }
   ],
   "source": [
    "df_bus.head()"
   ]
  },
  {
   "cell_type": "code",
   "execution_count": 552,
   "metadata": {},
   "outputs": [
    {
     "data": {
      "text/html": [
       "<div>\n",
       "<style scoped>\n",
       "    .dataframe tbody tr th:only-of-type {\n",
       "        vertical-align: middle;\n",
       "    }\n",
       "\n",
       "    .dataframe tbody tr th {\n",
       "        vertical-align: top;\n",
       "    }\n",
       "\n",
       "    .dataframe thead th {\n",
       "        text-align: right;\n",
       "    }\n",
       "</style>\n",
       "<table border=\"1\" class=\"dataframe\">\n",
       "  <thead>\n",
       "    <tr style=\"text-align: right;\">\n",
       "      <th></th>\n",
       "      <th>date</th>\n",
       "      <th>airline</th>\n",
       "      <th>ch_code</th>\n",
       "      <th>num_code</th>\n",
       "      <th>dep_time</th>\n",
       "      <th>from</th>\n",
       "      <th>time_taken</th>\n",
       "      <th>stop</th>\n",
       "      <th>arr_time</th>\n",
       "      <th>to</th>\n",
       "      <th>price</th>\n",
       "    </tr>\n",
       "  </thead>\n",
       "  <tbody>\n",
       "    <tr>\n",
       "      <th>0</th>\n",
       "      <td>11/2/2022</td>\n",
       "      <td>SpiceJet</td>\n",
       "      <td>SG</td>\n",
       "      <td>8709</td>\n",
       "      <td>18:55</td>\n",
       "      <td>Delhi</td>\n",
       "      <td>02h 10m</td>\n",
       "      <td>non-stop</td>\n",
       "      <td>21:05</td>\n",
       "      <td>Mumbai</td>\n",
       "      <td>5,953</td>\n",
       "    </tr>\n",
       "    <tr>\n",
       "      <th>1</th>\n",
       "      <td>11/2/2022</td>\n",
       "      <td>SpiceJet</td>\n",
       "      <td>SG</td>\n",
       "      <td>8157</td>\n",
       "      <td>6:20</td>\n",
       "      <td>Delhi</td>\n",
       "      <td>02h 20m</td>\n",
       "      <td>non-stop</td>\n",
       "      <td>8:40</td>\n",
       "      <td>Mumbai</td>\n",
       "      <td>5,953</td>\n",
       "    </tr>\n",
       "    <tr>\n",
       "      <th>2</th>\n",
       "      <td>11/2/2022</td>\n",
       "      <td>AirAsia</td>\n",
       "      <td>I5</td>\n",
       "      <td>764</td>\n",
       "      <td>4:25</td>\n",
       "      <td>Delhi</td>\n",
       "      <td>02h 10m</td>\n",
       "      <td>non-stop</td>\n",
       "      <td>6:35</td>\n",
       "      <td>Mumbai</td>\n",
       "      <td>5,956</td>\n",
       "    </tr>\n",
       "    <tr>\n",
       "      <th>3</th>\n",
       "      <td>11/2/2022</td>\n",
       "      <td>Vistara</td>\n",
       "      <td>UK</td>\n",
       "      <td>995</td>\n",
       "      <td>10:20</td>\n",
       "      <td>Delhi</td>\n",
       "      <td>02h 15m</td>\n",
       "      <td>non-stop</td>\n",
       "      <td>12:35</td>\n",
       "      <td>Mumbai</td>\n",
       "      <td>5,955</td>\n",
       "    </tr>\n",
       "    <tr>\n",
       "      <th>4</th>\n",
       "      <td>11/2/2022</td>\n",
       "      <td>Vistara</td>\n",
       "      <td>UK</td>\n",
       "      <td>963</td>\n",
       "      <td>8:50</td>\n",
       "      <td>Delhi</td>\n",
       "      <td>02h 20m</td>\n",
       "      <td>non-stop</td>\n",
       "      <td>11:10</td>\n",
       "      <td>Mumbai</td>\n",
       "      <td>5,955</td>\n",
       "    </tr>\n",
       "  </tbody>\n",
       "</table>\n",
       "</div>"
      ],
      "text/plain": [
       "        date   airline ch_code  num_code dep_time   from time_taken  \\\n",
       "0  11/2/2022  SpiceJet      SG      8709    18:55  Delhi    02h 10m   \n",
       "1  11/2/2022  SpiceJet      SG      8157     6:20  Delhi    02h 20m   \n",
       "2  11/2/2022   AirAsia      I5       764     4:25  Delhi    02h 10m   \n",
       "3  11/2/2022   Vistara      UK       995    10:20  Delhi    02h 15m   \n",
       "4  11/2/2022   Vistara      UK       963     8:50  Delhi    02h 20m   \n",
       "\n",
       "        stop arr_time      to  price  \n",
       "0  non-stop     21:05  Mumbai  5,953  \n",
       "1  non-stop      8:40  Mumbai  5,953  \n",
       "2  non-stop      6:35  Mumbai  5,956  \n",
       "3  non-stop     12:35  Mumbai  5,955  \n",
       "4  non-stop     11:10  Mumbai  5,955  "
      ]
     },
     "execution_count": 552,
     "metadata": {},
     "output_type": "execute_result"
    }
   ],
   "source": [
    "df_eco.head()"
   ]
  },
  {
   "cell_type": "code",
   "execution_count": 553,
   "metadata": {},
   "outputs": [],
   "source": [
    "# add a column for their class type\n",
    "\n",
    "df_bus['class'] = 'business'\n",
    "df_eco['class'] = 'economy'"
   ]
  },
  {
   "cell_type": "code",
   "execution_count": 554,
   "metadata": {},
   "outputs": [],
   "source": [
    "def data_clean(df):\n",
    "    \"\"\"\n",
    "    This cleans the data to have columns that I desire.\n",
    "    Step by step process will be in another notebook.\n",
    "    \"\"\"\n",
    "    # get the date into the right format\n",
    "    df['date'] = df['date'].str.replace('-', '/')\n",
    "    df['day'] = df['date'].astype(str).str[0:2]\n",
    "    df['day'] = df['day'].str.replace('/', '')\n",
    "    df['month'] = df['date'].str.extract('/([^/]+)/')\n",
    "    df['year'] = df['date'].astype(str).str[-4:]\n",
    "    df['date'] = (df['month'] + '/' + df['day'] + '/' + df['year'])\n",
    "    df['date'] = pd.to_datetime(df['date'])\n",
    "\n",
    "    # normalized the naming convention for all the stops\n",
    "    df['stop'] = df['stop'].str.extract('([^/]+)-')\n",
    "    df['stop'] = df['stop'].str.replace('1', 'one-stop')\n",
    "    df['stop'] = df['stop'].str.replace('2+', 'two-or-more-stops')\n",
    "    df['stop'] = df['stop'].str.replace('non', 'no-stops')\n",
    "\n",
    "    # combined code and number to get flight number\n",
    "    df['flight_no'] = (df['ch_code'] + '-' + df['num_code'].astype(str))\n",
    "\n",
    "    # got the hours for departure and arrival times\n",
    "    df['dep_hour'] = df['dep_time'].str.extract('([^/]+):').astype(int)\n",
    "    df['arr_hour'] = df['arr_time'].str.extract('([^/]+):').astype(int)\n",
    "\n",
    "    # categorized the departure and arrival times based on hour\n",
    "    df['dep_timeframe'] = pd.cut(df['dep_hour'],\n",
    "                             bins = [0,4,8,12,16,20,23],\n",
    "                             labels = ['Late Night', 'Early Morning', 'Morning', 'Afternoon', 'Evening', 'Night'],\n",
    "                             include_lowest = True)\n",
    "    df['arr_timeframe'] = pd.cut(df['arr_hour'],\n",
    "                             bins = [0,4,8,12,16,20,23],\n",
    "                             labels = ['Late Night', 'Early Morning', 'Morning', 'Afternoon', 'Evening', 'Night'],\n",
    "                             include_lowest = True)\n",
    "\n",
    "    # cleaned up the flight duration so that it is a decimal format istead of hours and minutes\n",
    "    df['hours taken'] = df['time_taken'].str.extract('([^/]+) ')\n",
    "    df['hours taken'] = df['hours taken'].str.extract('(\\d+)', expand=False)\n",
    "    df['hours taken'] = df['hours taken'].astype(float)\n",
    "    df['minutes taken'] = df['time_taken'].astype(str).str[-3:]\n",
    "    df['minutes taken'] = ((df['minutes taken'].str.extract('(\\d+)', expand=False).astype(float))/60).round(2)\n",
    "    df['duration'] = df['hours taken'] + df['minutes taken']\n",
    "\n",
    "    # removed the , from the prices\n",
    "    df['price'] = df['price'].str.replace(',', '')\n",
    "    df['price'] = df['price'].astype(int)\n",
    "\n",
    "    # the columns that I decided to keep for now\n",
    "    df = df[['date','airline','flight_no','from','dep_timeframe','stop','arr_timeframe','to','duration','price', 'class']]\n",
    "\n",
    "    return df"
   ]
  },
  {
   "cell_type": "code",
   "execution_count": 555,
   "metadata": {},
   "outputs": [],
   "source": [
    "df_bus = data_clean(df_bus)"
   ]
  },
  {
   "cell_type": "code",
   "execution_count": 556,
   "metadata": {},
   "outputs": [],
   "source": [
    "df_eco = data_clean(df_eco)"
   ]
  },
  {
   "cell_type": "code",
   "execution_count": 557,
   "metadata": {},
   "outputs": [
    {
     "data": {
      "text/html": [
       "<div>\n",
       "<style scoped>\n",
       "    .dataframe tbody tr th:only-of-type {\n",
       "        vertical-align: middle;\n",
       "    }\n",
       "\n",
       "    .dataframe tbody tr th {\n",
       "        vertical-align: top;\n",
       "    }\n",
       "\n",
       "    .dataframe thead th {\n",
       "        text-align: right;\n",
       "    }\n",
       "</style>\n",
       "<table border=\"1\" class=\"dataframe\">\n",
       "  <thead>\n",
       "    <tr style=\"text-align: right;\">\n",
       "      <th></th>\n",
       "      <th>date</th>\n",
       "      <th>airline</th>\n",
       "      <th>flight_no</th>\n",
       "      <th>from</th>\n",
       "      <th>dep_timeframe</th>\n",
       "      <th>stop</th>\n",
       "      <th>arr_timeframe</th>\n",
       "      <th>to</th>\n",
       "      <th>duration</th>\n",
       "      <th>price</th>\n",
       "      <th>class</th>\n",
       "    </tr>\n",
       "  </thead>\n",
       "  <tbody>\n",
       "    <tr>\n",
       "      <th>0</th>\n",
       "      <td>2022-02-11</td>\n",
       "      <td>Air India</td>\n",
       "      <td>AI-868</td>\n",
       "      <td>Delhi</td>\n",
       "      <td>Evening</td>\n",
       "      <td>no-stops</td>\n",
       "      <td>Evening</td>\n",
       "      <td>Mumbai</td>\n",
       "      <td>2.00</td>\n",
       "      <td>25612</td>\n",
       "      <td>business</td>\n",
       "    </tr>\n",
       "    <tr>\n",
       "      <th>1</th>\n",
       "      <td>2022-02-11</td>\n",
       "      <td>Air India</td>\n",
       "      <td>AI-624</td>\n",
       "      <td>Delhi</td>\n",
       "      <td>Evening</td>\n",
       "      <td>no-stops</td>\n",
       "      <td>Night</td>\n",
       "      <td>Mumbai</td>\n",
       "      <td>2.25</td>\n",
       "      <td>25612</td>\n",
       "      <td>business</td>\n",
       "    </tr>\n",
       "    <tr>\n",
       "      <th>2</th>\n",
       "      <td>2022-02-11</td>\n",
       "      <td>Air India</td>\n",
       "      <td>AI-531</td>\n",
       "      <td>Delhi</td>\n",
       "      <td>Evening</td>\n",
       "      <td>one-stop</td>\n",
       "      <td>Evening</td>\n",
       "      <td>Mumbai</td>\n",
       "      <td>24.75</td>\n",
       "      <td>42220</td>\n",
       "      <td>business</td>\n",
       "    </tr>\n",
       "    <tr>\n",
       "      <th>3</th>\n",
       "      <td>2022-02-11</td>\n",
       "      <td>Air India</td>\n",
       "      <td>AI-839</td>\n",
       "      <td>Delhi</td>\n",
       "      <td>Night</td>\n",
       "      <td>one-stop</td>\n",
       "      <td>Night</td>\n",
       "      <td>Mumbai</td>\n",
       "      <td>26.50</td>\n",
       "      <td>44450</td>\n",
       "      <td>business</td>\n",
       "    </tr>\n",
       "    <tr>\n",
       "      <th>4</th>\n",
       "      <td>2022-02-11</td>\n",
       "      <td>Air India</td>\n",
       "      <td>AI-544</td>\n",
       "      <td>Delhi</td>\n",
       "      <td>Evening</td>\n",
       "      <td>one-stop</td>\n",
       "      <td>Night</td>\n",
       "      <td>Mumbai</td>\n",
       "      <td>6.67</td>\n",
       "      <td>46690</td>\n",
       "      <td>business</td>\n",
       "    </tr>\n",
       "    <tr>\n",
       "      <th>...</th>\n",
       "      <td>...</td>\n",
       "      <td>...</td>\n",
       "      <td>...</td>\n",
       "      <td>...</td>\n",
       "      <td>...</td>\n",
       "      <td>...</td>\n",
       "      <td>...</td>\n",
       "      <td>...</td>\n",
       "      <td>...</td>\n",
       "      <td>...</td>\n",
       "      <td>...</td>\n",
       "    </tr>\n",
       "    <tr>\n",
       "      <th>93482</th>\n",
       "      <td>2022-03-31</td>\n",
       "      <td>Vistara</td>\n",
       "      <td>UK-822</td>\n",
       "      <td>Chennai</td>\n",
       "      <td>Morning</td>\n",
       "      <td>one-stop</td>\n",
       "      <td>Evening</td>\n",
       "      <td>Hyderabad</td>\n",
       "      <td>10.08</td>\n",
       "      <td>69265</td>\n",
       "      <td>business</td>\n",
       "    </tr>\n",
       "    <tr>\n",
       "      <th>93483</th>\n",
       "      <td>2022-03-31</td>\n",
       "      <td>Vistara</td>\n",
       "      <td>UK-826</td>\n",
       "      <td>Chennai</td>\n",
       "      <td>Morning</td>\n",
       "      <td>one-stop</td>\n",
       "      <td>Night</td>\n",
       "      <td>Hyderabad</td>\n",
       "      <td>10.42</td>\n",
       "      <td>77105</td>\n",
       "      <td>business</td>\n",
       "    </tr>\n",
       "    <tr>\n",
       "      <th>93484</th>\n",
       "      <td>2022-03-31</td>\n",
       "      <td>Vistara</td>\n",
       "      <td>UK-832</td>\n",
       "      <td>Chennai</td>\n",
       "      <td>Early Morning</td>\n",
       "      <td>one-stop</td>\n",
       "      <td>Evening</td>\n",
       "      <td>Hyderabad</td>\n",
       "      <td>13.83</td>\n",
       "      <td>79099</td>\n",
       "      <td>business</td>\n",
       "    </tr>\n",
       "    <tr>\n",
       "      <th>93485</th>\n",
       "      <td>2022-03-31</td>\n",
       "      <td>Vistara</td>\n",
       "      <td>UK-828</td>\n",
       "      <td>Chennai</td>\n",
       "      <td>Early Morning</td>\n",
       "      <td>one-stop</td>\n",
       "      <td>Evening</td>\n",
       "      <td>Hyderabad</td>\n",
       "      <td>10.00</td>\n",
       "      <td>81585</td>\n",
       "      <td>business</td>\n",
       "    </tr>\n",
       "    <tr>\n",
       "      <th>93486</th>\n",
       "      <td>2022-03-31</td>\n",
       "      <td>Vistara</td>\n",
       "      <td>UK-822</td>\n",
       "      <td>Chennai</td>\n",
       "      <td>Morning</td>\n",
       "      <td>one-stop</td>\n",
       "      <td>Evening</td>\n",
       "      <td>Hyderabad</td>\n",
       "      <td>10.08</td>\n",
       "      <td>81585</td>\n",
       "      <td>business</td>\n",
       "    </tr>\n",
       "  </tbody>\n",
       "</table>\n",
       "<p>93487 rows × 11 columns</p>\n",
       "</div>"
      ],
      "text/plain": [
       "            date    airline flight_no     from  dep_timeframe      stop  \\\n",
       "0     2022-02-11  Air India    AI-868    Delhi        Evening  no-stops   \n",
       "1     2022-02-11  Air India    AI-624    Delhi        Evening  no-stops   \n",
       "2     2022-02-11  Air India    AI-531    Delhi        Evening  one-stop   \n",
       "3     2022-02-11  Air India    AI-839    Delhi          Night  one-stop   \n",
       "4     2022-02-11  Air India    AI-544    Delhi        Evening  one-stop   \n",
       "...          ...        ...       ...      ...            ...       ...   \n",
       "93482 2022-03-31    Vistara    UK-822  Chennai        Morning  one-stop   \n",
       "93483 2022-03-31    Vistara    UK-826  Chennai        Morning  one-stop   \n",
       "93484 2022-03-31    Vistara    UK-832  Chennai  Early Morning  one-stop   \n",
       "93485 2022-03-31    Vistara    UK-828  Chennai  Early Morning  one-stop   \n",
       "93486 2022-03-31    Vistara    UK-822  Chennai        Morning  one-stop   \n",
       "\n",
       "      arr_timeframe         to  duration  price     class  \n",
       "0           Evening     Mumbai      2.00  25612  business  \n",
       "1             Night     Mumbai      2.25  25612  business  \n",
       "2           Evening     Mumbai     24.75  42220  business  \n",
       "3             Night     Mumbai     26.50  44450  business  \n",
       "4             Night     Mumbai      6.67  46690  business  \n",
       "...             ...        ...       ...    ...       ...  \n",
       "93482       Evening  Hyderabad     10.08  69265  business  \n",
       "93483         Night  Hyderabad     10.42  77105  business  \n",
       "93484       Evening  Hyderabad     13.83  79099  business  \n",
       "93485       Evening  Hyderabad     10.00  81585  business  \n",
       "93486       Evening  Hyderabad     10.08  81585  business  \n",
       "\n",
       "[93487 rows x 11 columns]"
      ]
     },
     "execution_count": 557,
     "metadata": {},
     "output_type": "execute_result"
    }
   ],
   "source": [
    "df_bus"
   ]
  },
  {
   "cell_type": "code",
   "execution_count": 558,
   "metadata": {},
   "outputs": [
    {
     "data": {
      "text/html": [
       "<div>\n",
       "<style scoped>\n",
       "    .dataframe tbody tr th:only-of-type {\n",
       "        vertical-align: middle;\n",
       "    }\n",
       "\n",
       "    .dataframe tbody tr th {\n",
       "        vertical-align: top;\n",
       "    }\n",
       "\n",
       "    .dataframe thead th {\n",
       "        text-align: right;\n",
       "    }\n",
       "</style>\n",
       "<table border=\"1\" class=\"dataframe\">\n",
       "  <thead>\n",
       "    <tr style=\"text-align: right;\">\n",
       "      <th></th>\n",
       "      <th>date</th>\n",
       "      <th>airline</th>\n",
       "      <th>flight_no</th>\n",
       "      <th>from</th>\n",
       "      <th>dep_timeframe</th>\n",
       "      <th>stop</th>\n",
       "      <th>arr_timeframe</th>\n",
       "      <th>to</th>\n",
       "      <th>duration</th>\n",
       "      <th>price</th>\n",
       "      <th>class</th>\n",
       "    </tr>\n",
       "  </thead>\n",
       "  <tbody>\n",
       "    <tr>\n",
       "      <th>0</th>\n",
       "      <td>2022-02-11</td>\n",
       "      <td>SpiceJet</td>\n",
       "      <td>SG-8709</td>\n",
       "      <td>Delhi</td>\n",
       "      <td>Evening</td>\n",
       "      <td>no-stops</td>\n",
       "      <td>Night</td>\n",
       "      <td>Mumbai</td>\n",
       "      <td>2.17</td>\n",
       "      <td>5953</td>\n",
       "      <td>economy</td>\n",
       "    </tr>\n",
       "    <tr>\n",
       "      <th>1</th>\n",
       "      <td>2022-02-11</td>\n",
       "      <td>SpiceJet</td>\n",
       "      <td>SG-8157</td>\n",
       "      <td>Delhi</td>\n",
       "      <td>Early Morning</td>\n",
       "      <td>no-stops</td>\n",
       "      <td>Early Morning</td>\n",
       "      <td>Mumbai</td>\n",
       "      <td>2.33</td>\n",
       "      <td>5953</td>\n",
       "      <td>economy</td>\n",
       "    </tr>\n",
       "    <tr>\n",
       "      <th>2</th>\n",
       "      <td>2022-02-11</td>\n",
       "      <td>AirAsia</td>\n",
       "      <td>I5-764</td>\n",
       "      <td>Delhi</td>\n",
       "      <td>Late Night</td>\n",
       "      <td>no-stops</td>\n",
       "      <td>Early Morning</td>\n",
       "      <td>Mumbai</td>\n",
       "      <td>2.17</td>\n",
       "      <td>5956</td>\n",
       "      <td>economy</td>\n",
       "    </tr>\n",
       "    <tr>\n",
       "      <th>3</th>\n",
       "      <td>2022-02-11</td>\n",
       "      <td>Vistara</td>\n",
       "      <td>UK-995</td>\n",
       "      <td>Delhi</td>\n",
       "      <td>Morning</td>\n",
       "      <td>no-stops</td>\n",
       "      <td>Morning</td>\n",
       "      <td>Mumbai</td>\n",
       "      <td>2.25</td>\n",
       "      <td>5955</td>\n",
       "      <td>economy</td>\n",
       "    </tr>\n",
       "    <tr>\n",
       "      <th>4</th>\n",
       "      <td>2022-02-11</td>\n",
       "      <td>Vistara</td>\n",
       "      <td>UK-963</td>\n",
       "      <td>Delhi</td>\n",
       "      <td>Early Morning</td>\n",
       "      <td>no-stops</td>\n",
       "      <td>Morning</td>\n",
       "      <td>Mumbai</td>\n",
       "      <td>2.33</td>\n",
       "      <td>5955</td>\n",
       "      <td>economy</td>\n",
       "    </tr>\n",
       "    <tr>\n",
       "      <th>...</th>\n",
       "      <td>...</td>\n",
       "      <td>...</td>\n",
       "      <td>...</td>\n",
       "      <td>...</td>\n",
       "      <td>...</td>\n",
       "      <td>...</td>\n",
       "      <td>...</td>\n",
       "      <td>...</td>\n",
       "      <td>...</td>\n",
       "      <td>...</td>\n",
       "      <td>...</td>\n",
       "    </tr>\n",
       "    <tr>\n",
       "      <th>206769</th>\n",
       "      <td>2022-03-31</td>\n",
       "      <td>Vistara</td>\n",
       "      <td>UK-832</td>\n",
       "      <td>Chennai</td>\n",
       "      <td>Early Morning</td>\n",
       "      <td>one-stop</td>\n",
       "      <td>Evening</td>\n",
       "      <td>Hyderabad</td>\n",
       "      <td>13.83</td>\n",
       "      <td>7697</td>\n",
       "      <td>economy</td>\n",
       "    </tr>\n",
       "    <tr>\n",
       "      <th>206770</th>\n",
       "      <td>2022-03-31</td>\n",
       "      <td>Vistara</td>\n",
       "      <td>UK-832</td>\n",
       "      <td>Chennai</td>\n",
       "      <td>Early Morning</td>\n",
       "      <td>one-stop</td>\n",
       "      <td>Evening</td>\n",
       "      <td>Hyderabad</td>\n",
       "      <td>13.83</td>\n",
       "      <td>7709</td>\n",
       "      <td>economy</td>\n",
       "    </tr>\n",
       "    <tr>\n",
       "      <th>206771</th>\n",
       "      <td>2022-03-31</td>\n",
       "      <td>Vistara</td>\n",
       "      <td>UK-826</td>\n",
       "      <td>Chennai</td>\n",
       "      <td>Morning</td>\n",
       "      <td>one-stop</td>\n",
       "      <td>Morning</td>\n",
       "      <td>Hyderabad</td>\n",
       "      <td>20.58</td>\n",
       "      <td>8640</td>\n",
       "      <td>economy</td>\n",
       "    </tr>\n",
       "    <tr>\n",
       "      <th>206772</th>\n",
       "      <td>2022-03-31</td>\n",
       "      <td>Vistara</td>\n",
       "      <td>UK-822</td>\n",
       "      <td>Chennai</td>\n",
       "      <td>Morning</td>\n",
       "      <td>one-stop</td>\n",
       "      <td>Morning</td>\n",
       "      <td>Hyderabad</td>\n",
       "      <td>23.33</td>\n",
       "      <td>8640</td>\n",
       "      <td>economy</td>\n",
       "    </tr>\n",
       "    <tr>\n",
       "      <th>206773</th>\n",
       "      <td>2022-03-31</td>\n",
       "      <td>Vistara</td>\n",
       "      <td>UK-824</td>\n",
       "      <td>Chennai</td>\n",
       "      <td>Evening</td>\n",
       "      <td>one-stop</td>\n",
       "      <td>Evening</td>\n",
       "      <td>Hyderabad</td>\n",
       "      <td>24.42</td>\n",
       "      <td>8640</td>\n",
       "      <td>economy</td>\n",
       "    </tr>\n",
       "  </tbody>\n",
       "</table>\n",
       "<p>206774 rows × 11 columns</p>\n",
       "</div>"
      ],
      "text/plain": [
       "             date   airline flight_no     from  dep_timeframe      stop  \\\n",
       "0      2022-02-11  SpiceJet   SG-8709    Delhi        Evening  no-stops   \n",
       "1      2022-02-11  SpiceJet   SG-8157    Delhi  Early Morning  no-stops   \n",
       "2      2022-02-11   AirAsia    I5-764    Delhi     Late Night  no-stops   \n",
       "3      2022-02-11   Vistara    UK-995    Delhi        Morning  no-stops   \n",
       "4      2022-02-11   Vistara    UK-963    Delhi  Early Morning  no-stops   \n",
       "...           ...       ...       ...      ...            ...       ...   \n",
       "206769 2022-03-31   Vistara    UK-832  Chennai  Early Morning  one-stop   \n",
       "206770 2022-03-31   Vistara    UK-832  Chennai  Early Morning  one-stop   \n",
       "206771 2022-03-31   Vistara    UK-826  Chennai        Morning  one-stop   \n",
       "206772 2022-03-31   Vistara    UK-822  Chennai        Morning  one-stop   \n",
       "206773 2022-03-31   Vistara    UK-824  Chennai        Evening  one-stop   \n",
       "\n",
       "        arr_timeframe         to  duration  price    class  \n",
       "0               Night     Mumbai      2.17   5953  economy  \n",
       "1       Early Morning     Mumbai      2.33   5953  economy  \n",
       "2       Early Morning     Mumbai      2.17   5956  economy  \n",
       "3             Morning     Mumbai      2.25   5955  economy  \n",
       "4             Morning     Mumbai      2.33   5955  economy  \n",
       "...               ...        ...       ...    ...      ...  \n",
       "206769        Evening  Hyderabad     13.83   7697  economy  \n",
       "206770        Evening  Hyderabad     13.83   7709  economy  \n",
       "206771        Morning  Hyderabad     20.58   8640  economy  \n",
       "206772        Morning  Hyderabad     23.33   8640  economy  \n",
       "206773        Evening  Hyderabad     24.42   8640  economy  \n",
       "\n",
       "[206774 rows x 11 columns]"
      ]
     },
     "execution_count": 558,
     "metadata": {},
     "output_type": "execute_result"
    }
   ],
   "source": [
    "df_eco"
   ]
  },
  {
   "cell_type": "code",
   "execution_count": 559,
   "metadata": {},
   "outputs": [],
   "source": [
    "df = pd.concat([df_bus, df_eco])"
   ]
  },
  {
   "cell_type": "code",
   "execution_count": 560,
   "metadata": {},
   "outputs": [
    {
     "data": {
      "text/html": [
       "<div>\n",
       "<style scoped>\n",
       "    .dataframe tbody tr th:only-of-type {\n",
       "        vertical-align: middle;\n",
       "    }\n",
       "\n",
       "    .dataframe tbody tr th {\n",
       "        vertical-align: top;\n",
       "    }\n",
       "\n",
       "    .dataframe thead th {\n",
       "        text-align: right;\n",
       "    }\n",
       "</style>\n",
       "<table border=\"1\" class=\"dataframe\">\n",
       "  <thead>\n",
       "    <tr style=\"text-align: right;\">\n",
       "      <th></th>\n",
       "      <th>date</th>\n",
       "      <th>airline</th>\n",
       "      <th>flight_no</th>\n",
       "      <th>from</th>\n",
       "      <th>dep_timeframe</th>\n",
       "      <th>stop</th>\n",
       "      <th>arr_timeframe</th>\n",
       "      <th>to</th>\n",
       "      <th>duration</th>\n",
       "      <th>price</th>\n",
       "      <th>class</th>\n",
       "    </tr>\n",
       "  </thead>\n",
       "  <tbody>\n",
       "    <tr>\n",
       "      <th>0</th>\n",
       "      <td>2022-02-11</td>\n",
       "      <td>Air India</td>\n",
       "      <td>AI-868</td>\n",
       "      <td>Delhi</td>\n",
       "      <td>Evening</td>\n",
       "      <td>no-stops</td>\n",
       "      <td>Evening</td>\n",
       "      <td>Mumbai</td>\n",
       "      <td>2.00</td>\n",
       "      <td>25612</td>\n",
       "      <td>business</td>\n",
       "    </tr>\n",
       "    <tr>\n",
       "      <th>1</th>\n",
       "      <td>2022-02-11</td>\n",
       "      <td>Air India</td>\n",
       "      <td>AI-624</td>\n",
       "      <td>Delhi</td>\n",
       "      <td>Evening</td>\n",
       "      <td>no-stops</td>\n",
       "      <td>Night</td>\n",
       "      <td>Mumbai</td>\n",
       "      <td>2.25</td>\n",
       "      <td>25612</td>\n",
       "      <td>business</td>\n",
       "    </tr>\n",
       "    <tr>\n",
       "      <th>2</th>\n",
       "      <td>2022-02-11</td>\n",
       "      <td>Air India</td>\n",
       "      <td>AI-531</td>\n",
       "      <td>Delhi</td>\n",
       "      <td>Evening</td>\n",
       "      <td>one-stop</td>\n",
       "      <td>Evening</td>\n",
       "      <td>Mumbai</td>\n",
       "      <td>24.75</td>\n",
       "      <td>42220</td>\n",
       "      <td>business</td>\n",
       "    </tr>\n",
       "    <tr>\n",
       "      <th>3</th>\n",
       "      <td>2022-02-11</td>\n",
       "      <td>Air India</td>\n",
       "      <td>AI-839</td>\n",
       "      <td>Delhi</td>\n",
       "      <td>Night</td>\n",
       "      <td>one-stop</td>\n",
       "      <td>Night</td>\n",
       "      <td>Mumbai</td>\n",
       "      <td>26.50</td>\n",
       "      <td>44450</td>\n",
       "      <td>business</td>\n",
       "    </tr>\n",
       "    <tr>\n",
       "      <th>4</th>\n",
       "      <td>2022-02-11</td>\n",
       "      <td>Air India</td>\n",
       "      <td>AI-544</td>\n",
       "      <td>Delhi</td>\n",
       "      <td>Evening</td>\n",
       "      <td>one-stop</td>\n",
       "      <td>Night</td>\n",
       "      <td>Mumbai</td>\n",
       "      <td>6.67</td>\n",
       "      <td>46690</td>\n",
       "      <td>business</td>\n",
       "    </tr>\n",
       "    <tr>\n",
       "      <th>...</th>\n",
       "      <td>...</td>\n",
       "      <td>...</td>\n",
       "      <td>...</td>\n",
       "      <td>...</td>\n",
       "      <td>...</td>\n",
       "      <td>...</td>\n",
       "      <td>...</td>\n",
       "      <td>...</td>\n",
       "      <td>...</td>\n",
       "      <td>...</td>\n",
       "      <td>...</td>\n",
       "    </tr>\n",
       "    <tr>\n",
       "      <th>206769</th>\n",
       "      <td>2022-03-31</td>\n",
       "      <td>Vistara</td>\n",
       "      <td>UK-832</td>\n",
       "      <td>Chennai</td>\n",
       "      <td>Early Morning</td>\n",
       "      <td>one-stop</td>\n",
       "      <td>Evening</td>\n",
       "      <td>Hyderabad</td>\n",
       "      <td>13.83</td>\n",
       "      <td>7697</td>\n",
       "      <td>economy</td>\n",
       "    </tr>\n",
       "    <tr>\n",
       "      <th>206770</th>\n",
       "      <td>2022-03-31</td>\n",
       "      <td>Vistara</td>\n",
       "      <td>UK-832</td>\n",
       "      <td>Chennai</td>\n",
       "      <td>Early Morning</td>\n",
       "      <td>one-stop</td>\n",
       "      <td>Evening</td>\n",
       "      <td>Hyderabad</td>\n",
       "      <td>13.83</td>\n",
       "      <td>7709</td>\n",
       "      <td>economy</td>\n",
       "    </tr>\n",
       "    <tr>\n",
       "      <th>206771</th>\n",
       "      <td>2022-03-31</td>\n",
       "      <td>Vistara</td>\n",
       "      <td>UK-826</td>\n",
       "      <td>Chennai</td>\n",
       "      <td>Morning</td>\n",
       "      <td>one-stop</td>\n",
       "      <td>Morning</td>\n",
       "      <td>Hyderabad</td>\n",
       "      <td>20.58</td>\n",
       "      <td>8640</td>\n",
       "      <td>economy</td>\n",
       "    </tr>\n",
       "    <tr>\n",
       "      <th>206772</th>\n",
       "      <td>2022-03-31</td>\n",
       "      <td>Vistara</td>\n",
       "      <td>UK-822</td>\n",
       "      <td>Chennai</td>\n",
       "      <td>Morning</td>\n",
       "      <td>one-stop</td>\n",
       "      <td>Morning</td>\n",
       "      <td>Hyderabad</td>\n",
       "      <td>23.33</td>\n",
       "      <td>8640</td>\n",
       "      <td>economy</td>\n",
       "    </tr>\n",
       "    <tr>\n",
       "      <th>206773</th>\n",
       "      <td>2022-03-31</td>\n",
       "      <td>Vistara</td>\n",
       "      <td>UK-824</td>\n",
       "      <td>Chennai</td>\n",
       "      <td>Evening</td>\n",
       "      <td>one-stop</td>\n",
       "      <td>Evening</td>\n",
       "      <td>Hyderabad</td>\n",
       "      <td>24.42</td>\n",
       "      <td>8640</td>\n",
       "      <td>economy</td>\n",
       "    </tr>\n",
       "  </tbody>\n",
       "</table>\n",
       "<p>300261 rows × 11 columns</p>\n",
       "</div>"
      ],
      "text/plain": [
       "             date    airline flight_no     from  dep_timeframe      stop  \\\n",
       "0      2022-02-11  Air India    AI-868    Delhi        Evening  no-stops   \n",
       "1      2022-02-11  Air India    AI-624    Delhi        Evening  no-stops   \n",
       "2      2022-02-11  Air India    AI-531    Delhi        Evening  one-stop   \n",
       "3      2022-02-11  Air India    AI-839    Delhi          Night  one-stop   \n",
       "4      2022-02-11  Air India    AI-544    Delhi        Evening  one-stop   \n",
       "...           ...        ...       ...      ...            ...       ...   \n",
       "206769 2022-03-31    Vistara    UK-832  Chennai  Early Morning  one-stop   \n",
       "206770 2022-03-31    Vistara    UK-832  Chennai  Early Morning  one-stop   \n",
       "206771 2022-03-31    Vistara    UK-826  Chennai        Morning  one-stop   \n",
       "206772 2022-03-31    Vistara    UK-822  Chennai        Morning  one-stop   \n",
       "206773 2022-03-31    Vistara    UK-824  Chennai        Evening  one-stop   \n",
       "\n",
       "       arr_timeframe         to  duration  price     class  \n",
       "0            Evening     Mumbai      2.00  25612  business  \n",
       "1              Night     Mumbai      2.25  25612  business  \n",
       "2            Evening     Mumbai     24.75  42220  business  \n",
       "3              Night     Mumbai     26.50  44450  business  \n",
       "4              Night     Mumbai      6.67  46690  business  \n",
       "...              ...        ...       ...    ...       ...  \n",
       "206769       Evening  Hyderabad     13.83   7697   economy  \n",
       "206770       Evening  Hyderabad     13.83   7709   economy  \n",
       "206771       Morning  Hyderabad     20.58   8640   economy  \n",
       "206772       Morning  Hyderabad     23.33   8640   economy  \n",
       "206773       Evening  Hyderabad     24.42   8640   economy  \n",
       "\n",
       "[300261 rows x 11 columns]"
      ]
     },
     "execution_count": 560,
     "metadata": {},
     "output_type": "execute_result"
    }
   ],
   "source": [
    "df"
   ]
  },
  {
   "cell_type": "code",
   "execution_count": 561,
   "metadata": {},
   "outputs": [
    {
     "data": {
      "text/html": [
       "<div>\n",
       "<style scoped>\n",
       "    .dataframe tbody tr th:only-of-type {\n",
       "        vertical-align: middle;\n",
       "    }\n",
       "\n",
       "    .dataframe tbody tr th {\n",
       "        vertical-align: top;\n",
       "    }\n",
       "\n",
       "    .dataframe thead th {\n",
       "        text-align: right;\n",
       "    }\n",
       "</style>\n",
       "<table border=\"1\" class=\"dataframe\">\n",
       "  <thead>\n",
       "    <tr style=\"text-align: right;\">\n",
       "      <th></th>\n",
       "      <th>date</th>\n",
       "      <th>airline</th>\n",
       "      <th>flight_no</th>\n",
       "      <th>from</th>\n",
       "      <th>dep_timeframe</th>\n",
       "      <th>stop</th>\n",
       "      <th>arr_timeframe</th>\n",
       "      <th>to</th>\n",
       "      <th>duration</th>\n",
       "      <th>price</th>\n",
       "      <th>class</th>\n",
       "    </tr>\n",
       "  </thead>\n",
       "  <tbody>\n",
       "    <tr>\n",
       "      <th>96486</th>\n",
       "      <td>2022-02-26</td>\n",
       "      <td>GO FIRST</td>\n",
       "      <td>G8-146</td>\n",
       "      <td>Bangalore</td>\n",
       "      <td>Early Morning</td>\n",
       "      <td>one-stop</td>\n",
       "      <td>Morning</td>\n",
       "      <td>Mumbai</td>\n",
       "      <td>NaN</td>\n",
       "      <td>5177</td>\n",
       "      <td>economy</td>\n",
       "    </tr>\n",
       "    <tr>\n",
       "      <th>104676</th>\n",
       "      <td>2022-02-26</td>\n",
       "      <td>GO FIRST</td>\n",
       "      <td>G8-146</td>\n",
       "      <td>Bangalore</td>\n",
       "      <td>Early Morning</td>\n",
       "      <td>two-or-more-stops</td>\n",
       "      <td>Early Morning</td>\n",
       "      <td>Kolkata</td>\n",
       "      <td>NaN</td>\n",
       "      <td>5177</td>\n",
       "      <td>economy</td>\n",
       "    </tr>\n",
       "    <tr>\n",
       "      <th>111315</th>\n",
       "      <td>2022-02-26</td>\n",
       "      <td>GO FIRST</td>\n",
       "      <td>G8-146</td>\n",
       "      <td>Bangalore</td>\n",
       "      <td>Early Morning</td>\n",
       "      <td>two-or-more-stops</td>\n",
       "      <td>Morning</td>\n",
       "      <td>Hyderabad</td>\n",
       "      <td>NaN</td>\n",
       "      <td>4337</td>\n",
       "      <td>economy</td>\n",
       "    </tr>\n",
       "    <tr>\n",
       "      <th>154007</th>\n",
       "      <td>2022-02-25</td>\n",
       "      <td>GO FIRST</td>\n",
       "      <td>G8-517</td>\n",
       "      <td>Hyderabad</td>\n",
       "      <td>Evening</td>\n",
       "      <td>one-stop</td>\n",
       "      <td>Night</td>\n",
       "      <td>Delhi</td>\n",
       "      <td>NaN</td>\n",
       "      <td>6132</td>\n",
       "      <td>economy</td>\n",
       "    </tr>\n",
       "  </tbody>\n",
       "</table>\n",
       "</div>"
      ],
      "text/plain": [
       "             date   airline flight_no       from  dep_timeframe  \\\n",
       "96486  2022-02-26  GO FIRST    G8-146  Bangalore  Early Morning   \n",
       "104676 2022-02-26  GO FIRST    G8-146  Bangalore  Early Morning   \n",
       "111315 2022-02-26  GO FIRST    G8-146  Bangalore  Early Morning   \n",
       "154007 2022-02-25  GO FIRST    G8-517  Hyderabad        Evening   \n",
       "\n",
       "                     stop  arr_timeframe         to  duration  price    class  \n",
       "96486            one-stop        Morning     Mumbai       NaN   5177  economy  \n",
       "104676  two-or-more-stops  Early Morning    Kolkata       NaN   5177  economy  \n",
       "111315  two-or-more-stops        Morning  Hyderabad       NaN   4337  economy  \n",
       "154007           one-stop          Night      Delhi       NaN   6132  economy  "
      ]
     },
     "execution_count": 561,
     "metadata": {},
     "output_type": "execute_result"
    }
   ],
   "source": [
    "df[df['duration'].isna()]\n",
    "\n",
    "# When looking at the raw data again, I saw that the time taken was 1.03 or 1.02 h m so I will remove those"
   ]
  },
  {
   "cell_type": "code",
   "execution_count": 562,
   "metadata": {},
   "outputs": [],
   "source": [
    "df.dropna(inplace = True)"
   ]
  },
  {
   "cell_type": "code",
   "execution_count": 563,
   "metadata": {},
   "outputs": [
    {
     "data": {
      "text/plain": [
       "date             0\n",
       "airline          0\n",
       "flight_no        0\n",
       "from             0\n",
       "dep_timeframe    0\n",
       "stop             0\n",
       "arr_timeframe    0\n",
       "to               0\n",
       "duration         0\n",
       "price            0\n",
       "class            0\n",
       "dtype: int64"
      ]
     },
     "execution_count": 563,
     "metadata": {},
     "output_type": "execute_result"
    }
   ],
   "source": [
    "df.isna().sum()"
   ]
  },
  {
   "cell_type": "code",
   "execution_count": 564,
   "metadata": {},
   "outputs": [
    {
     "data": {
      "text/html": [
       "<div>\n",
       "<style scoped>\n",
       "    .dataframe tbody tr th:only-of-type {\n",
       "        vertical-align: middle;\n",
       "    }\n",
       "\n",
       "    .dataframe tbody tr th {\n",
       "        vertical-align: top;\n",
       "    }\n",
       "\n",
       "    .dataframe thead th {\n",
       "        text-align: right;\n",
       "    }\n",
       "</style>\n",
       "<table border=\"1\" class=\"dataframe\">\n",
       "  <thead>\n",
       "    <tr style=\"text-align: right;\">\n",
       "      <th></th>\n",
       "      <th>date</th>\n",
       "      <th>airline</th>\n",
       "      <th>flight_no</th>\n",
       "      <th>from</th>\n",
       "      <th>dep_timeframe</th>\n",
       "      <th>stop</th>\n",
       "      <th>arr_timeframe</th>\n",
       "      <th>to</th>\n",
       "      <th>duration</th>\n",
       "      <th>price</th>\n",
       "      <th>class</th>\n",
       "    </tr>\n",
       "  </thead>\n",
       "  <tbody>\n",
       "    <tr>\n",
       "      <th>0</th>\n",
       "      <td>2022-02-11</td>\n",
       "      <td>Air India</td>\n",
       "      <td>AI-868</td>\n",
       "      <td>Delhi</td>\n",
       "      <td>Evening</td>\n",
       "      <td>no-stops</td>\n",
       "      <td>Evening</td>\n",
       "      <td>Mumbai</td>\n",
       "      <td>2.00</td>\n",
       "      <td>25612</td>\n",
       "      <td>business</td>\n",
       "    </tr>\n",
       "    <tr>\n",
       "      <th>1</th>\n",
       "      <td>2022-02-11</td>\n",
       "      <td>Air India</td>\n",
       "      <td>AI-624</td>\n",
       "      <td>Delhi</td>\n",
       "      <td>Evening</td>\n",
       "      <td>no-stops</td>\n",
       "      <td>Night</td>\n",
       "      <td>Mumbai</td>\n",
       "      <td>2.25</td>\n",
       "      <td>25612</td>\n",
       "      <td>business</td>\n",
       "    </tr>\n",
       "    <tr>\n",
       "      <th>2</th>\n",
       "      <td>2022-02-11</td>\n",
       "      <td>Air India</td>\n",
       "      <td>AI-531</td>\n",
       "      <td>Delhi</td>\n",
       "      <td>Evening</td>\n",
       "      <td>one-stop</td>\n",
       "      <td>Evening</td>\n",
       "      <td>Mumbai</td>\n",
       "      <td>24.75</td>\n",
       "      <td>42220</td>\n",
       "      <td>business</td>\n",
       "    </tr>\n",
       "    <tr>\n",
       "      <th>3</th>\n",
       "      <td>2022-02-11</td>\n",
       "      <td>Air India</td>\n",
       "      <td>AI-839</td>\n",
       "      <td>Delhi</td>\n",
       "      <td>Night</td>\n",
       "      <td>one-stop</td>\n",
       "      <td>Night</td>\n",
       "      <td>Mumbai</td>\n",
       "      <td>26.50</td>\n",
       "      <td>44450</td>\n",
       "      <td>business</td>\n",
       "    </tr>\n",
       "    <tr>\n",
       "      <th>4</th>\n",
       "      <td>2022-02-11</td>\n",
       "      <td>Air India</td>\n",
       "      <td>AI-544</td>\n",
       "      <td>Delhi</td>\n",
       "      <td>Evening</td>\n",
       "      <td>one-stop</td>\n",
       "      <td>Night</td>\n",
       "      <td>Mumbai</td>\n",
       "      <td>6.67</td>\n",
       "      <td>46690</td>\n",
       "      <td>business</td>\n",
       "    </tr>\n",
       "  </tbody>\n",
       "</table>\n",
       "</div>"
      ],
      "text/plain": [
       "        date    airline flight_no   from dep_timeframe      stop  \\\n",
       "0 2022-02-11  Air India    AI-868  Delhi       Evening  no-stops   \n",
       "1 2022-02-11  Air India    AI-624  Delhi       Evening  no-stops   \n",
       "2 2022-02-11  Air India    AI-531  Delhi       Evening  one-stop   \n",
       "3 2022-02-11  Air India    AI-839  Delhi         Night  one-stop   \n",
       "4 2022-02-11  Air India    AI-544  Delhi       Evening  one-stop   \n",
       "\n",
       "  arr_timeframe      to  duration  price     class  \n",
       "0       Evening  Mumbai      2.00  25612  business  \n",
       "1         Night  Mumbai      2.25  25612  business  \n",
       "2       Evening  Mumbai     24.75  42220  business  \n",
       "3         Night  Mumbai     26.50  44450  business  \n",
       "4         Night  Mumbai      6.67  46690  business  "
      ]
     },
     "execution_count": 564,
     "metadata": {},
     "output_type": "execute_result"
    }
   ],
   "source": [
    "df.head()"
   ]
  },
  {
   "cell_type": "code",
   "execution_count": 565,
   "metadata": {},
   "outputs": [
    {
     "data": {
      "text/plain": [
       "airline\n",
       "Vistara      127859\n",
       "Air India     80894\n",
       "Indigo        43120\n",
       "GO FIRST      23173\n",
       "AirAsia       16098\n",
       "SpiceJet       9011\n",
       "StarAir          61\n",
       "Trujet           41\n",
       "Name: count, dtype: int64"
      ]
     },
     "execution_count": 565,
     "metadata": {},
     "output_type": "execute_result"
    }
   ],
   "source": [
    "df['airline'].value_counts()"
   ]
  },
  {
   "cell_type": "code",
   "execution_count": 566,
   "metadata": {},
   "outputs": [
    {
     "data": {
      "text/plain": [
       "from\n",
       "Delhi        61345\n",
       "Mumbai       60903\n",
       "Bangalore    52103\n",
       "Kolkata      46347\n",
       "Hyderabad    40859\n",
       "Chennai      38700\n",
       "Name: count, dtype: int64"
      ]
     },
     "execution_count": 566,
     "metadata": {},
     "output_type": "execute_result"
    }
   ],
   "source": [
    "df['from'].value_counts()"
   ]
  },
  {
   "cell_type": "code",
   "execution_count": 567,
   "metadata": {},
   "outputs": [
    {
     "data": {
      "text/plain": [
       "to\n",
       "Mumbai       59108\n",
       "Delhi        57360\n",
       "Bangalore    51112\n",
       "Kolkata      49534\n",
       "Hyderabad    42775\n",
       "Chennai      40368\n",
       "Name: count, dtype: int64"
      ]
     },
     "execution_count": 567,
     "metadata": {},
     "output_type": "execute_result"
    }
   ],
   "source": [
    "df['to'].value_counts()"
   ]
  },
  {
   "cell_type": "code",
   "execution_count": 568,
   "metadata": {},
   "outputs": [
    {
     "data": {
      "text/plain": [
       "dep_timeframe\n",
       "Evening          76500\n",
       "Early Morning    76419\n",
       "Morning          72054\n",
       "Afternoon        45901\n",
       "Night            25773\n",
       "Late Night        3610\n",
       "Name: count, dtype: int64"
      ]
     },
     "execution_count": 568,
     "metadata": {},
     "output_type": "execute_result"
    }
   ],
   "source": [
    "df['dep_timeframe'].value_counts()"
   ]
  },
  {
   "cell_type": "code",
   "execution_count": 569,
   "metadata": {},
   "outputs": [
    {
     "data": {
      "text/plain": [
       "arr_timeframe\n",
       "Evening          88361\n",
       "Night            66800\n",
       "Morning          57510\n",
       "Afternoon        38218\n",
       "Early Morning    34988\n",
       "Late Night       14380\n",
       "Name: count, dtype: int64"
      ]
     },
     "execution_count": 569,
     "metadata": {},
     "output_type": "execute_result"
    }
   ],
   "source": [
    "df['arr_timeframe'].value_counts()"
   ]
  },
  {
   "cell_type": "code",
   "execution_count": 570,
   "metadata": {},
   "outputs": [
    {
     "data": {
      "text/plain": [
       "stop\n",
       "one-stop             250927\n",
       "no-stops              36044\n",
       "two-or-more-stops     13286\n",
       "Name: count, dtype: int64"
      ]
     },
     "execution_count": 570,
     "metadata": {},
     "output_type": "execute_result"
    }
   ],
   "source": [
    "df['stop'].value_counts()"
   ]
  },
  {
   "cell_type": "code",
   "execution_count": 571,
   "metadata": {},
   "outputs": [
    {
     "data": {
      "text/plain": [
       "class\n",
       "economy     206770\n",
       "business     93487\n",
       "Name: count, dtype: int64"
      ]
     },
     "execution_count": 571,
     "metadata": {},
     "output_type": "execute_result"
    }
   ],
   "source": [
    "df['class'].value_counts()"
   ]
  },
  {
   "cell_type": "code",
   "execution_count": 572,
   "metadata": {},
   "outputs": [
    {
     "data": {
      "text/plain": [
       "0.83"
      ]
     },
     "execution_count": 572,
     "metadata": {},
     "output_type": "execute_result"
    }
   ],
   "source": [
    "df['duration'].min()"
   ]
  },
  {
   "cell_type": "code",
   "execution_count": 573,
   "metadata": {},
   "outputs": [
    {
     "data": {
      "text/plain": [
       "49.83"
      ]
     },
     "execution_count": 573,
     "metadata": {},
     "output_type": "execute_result"
    }
   ],
   "source": [
    "df['duration'].max()"
   ]
  },
  {
   "cell_type": "code",
   "execution_count": 574,
   "metadata": {},
   "outputs": [
    {
     "data": {
      "text/plain": [
       "12.217942662452495"
      ]
     },
     "execution_count": 574,
     "metadata": {},
     "output_type": "execute_result"
    }
   ],
   "source": [
    "df['duration'].mean()"
   ]
  },
  {
   "cell_type": "markdown",
   "metadata": {},
   "source": [
    "### Creating Categories (One Hot Encoding)"
   ]
  },
  {
   "cell_type": "markdown",
   "metadata": {},
   "source": [
    "I will be taking all the categorical data and one hot encoding them so that they all have a numeric value to them."
   ]
  },
  {
   "cell_type": "code",
   "execution_count": 575,
   "metadata": {},
   "outputs": [
    {
     "data": {
      "text/html": [
       "<div>\n",
       "<style scoped>\n",
       "    .dataframe tbody tr th:only-of-type {\n",
       "        vertical-align: middle;\n",
       "    }\n",
       "\n",
       "    .dataframe tbody tr th {\n",
       "        vertical-align: top;\n",
       "    }\n",
       "\n",
       "    .dataframe thead th {\n",
       "        text-align: right;\n",
       "    }\n",
       "</style>\n",
       "<table border=\"1\" class=\"dataframe\">\n",
       "  <thead>\n",
       "    <tr style=\"text-align: right;\">\n",
       "      <th></th>\n",
       "      <th>date</th>\n",
       "      <th>airline</th>\n",
       "      <th>flight_no</th>\n",
       "      <th>from</th>\n",
       "      <th>dep_timeframe</th>\n",
       "      <th>stop</th>\n",
       "      <th>arr_timeframe</th>\n",
       "      <th>to</th>\n",
       "      <th>duration</th>\n",
       "      <th>price</th>\n",
       "      <th>class</th>\n",
       "    </tr>\n",
       "  </thead>\n",
       "  <tbody>\n",
       "    <tr>\n",
       "      <th>0</th>\n",
       "      <td>2022-02-11</td>\n",
       "      <td>Air India</td>\n",
       "      <td>AI-868</td>\n",
       "      <td>Delhi</td>\n",
       "      <td>Evening</td>\n",
       "      <td>no-stops</td>\n",
       "      <td>Evening</td>\n",
       "      <td>Mumbai</td>\n",
       "      <td>2.00</td>\n",
       "      <td>25612</td>\n",
       "      <td>business</td>\n",
       "    </tr>\n",
       "    <tr>\n",
       "      <th>1</th>\n",
       "      <td>2022-02-11</td>\n",
       "      <td>Air India</td>\n",
       "      <td>AI-624</td>\n",
       "      <td>Delhi</td>\n",
       "      <td>Evening</td>\n",
       "      <td>no-stops</td>\n",
       "      <td>Night</td>\n",
       "      <td>Mumbai</td>\n",
       "      <td>2.25</td>\n",
       "      <td>25612</td>\n",
       "      <td>business</td>\n",
       "    </tr>\n",
       "    <tr>\n",
       "      <th>2</th>\n",
       "      <td>2022-02-11</td>\n",
       "      <td>Air India</td>\n",
       "      <td>AI-531</td>\n",
       "      <td>Delhi</td>\n",
       "      <td>Evening</td>\n",
       "      <td>one-stop</td>\n",
       "      <td>Evening</td>\n",
       "      <td>Mumbai</td>\n",
       "      <td>24.75</td>\n",
       "      <td>42220</td>\n",
       "      <td>business</td>\n",
       "    </tr>\n",
       "    <tr>\n",
       "      <th>3</th>\n",
       "      <td>2022-02-11</td>\n",
       "      <td>Air India</td>\n",
       "      <td>AI-839</td>\n",
       "      <td>Delhi</td>\n",
       "      <td>Night</td>\n",
       "      <td>one-stop</td>\n",
       "      <td>Night</td>\n",
       "      <td>Mumbai</td>\n",
       "      <td>26.50</td>\n",
       "      <td>44450</td>\n",
       "      <td>business</td>\n",
       "    </tr>\n",
       "    <tr>\n",
       "      <th>4</th>\n",
       "      <td>2022-02-11</td>\n",
       "      <td>Air India</td>\n",
       "      <td>AI-544</td>\n",
       "      <td>Delhi</td>\n",
       "      <td>Evening</td>\n",
       "      <td>one-stop</td>\n",
       "      <td>Night</td>\n",
       "      <td>Mumbai</td>\n",
       "      <td>6.67</td>\n",
       "      <td>46690</td>\n",
       "      <td>business</td>\n",
       "    </tr>\n",
       "  </tbody>\n",
       "</table>\n",
       "</div>"
      ],
      "text/plain": [
       "        date    airline flight_no   from dep_timeframe      stop  \\\n",
       "0 2022-02-11  Air India    AI-868  Delhi       Evening  no-stops   \n",
       "1 2022-02-11  Air India    AI-624  Delhi       Evening  no-stops   \n",
       "2 2022-02-11  Air India    AI-531  Delhi       Evening  one-stop   \n",
       "3 2022-02-11  Air India    AI-839  Delhi         Night  one-stop   \n",
       "4 2022-02-11  Air India    AI-544  Delhi       Evening  one-stop   \n",
       "\n",
       "  arr_timeframe      to  duration  price     class  \n",
       "0       Evening  Mumbai      2.00  25612  business  \n",
       "1         Night  Mumbai      2.25  25612  business  \n",
       "2       Evening  Mumbai     24.75  42220  business  \n",
       "3         Night  Mumbai     26.50  44450  business  \n",
       "4         Night  Mumbai      6.67  46690  business  "
      ]
     },
     "execution_count": 575,
     "metadata": {},
     "output_type": "execute_result"
    }
   ],
   "source": [
    "df.head()"
   ]
  },
  {
   "cell_type": "code",
   "execution_count": 576,
   "metadata": {},
   "outputs": [],
   "source": [
    "# dropping these columns because I found them to not be useful\n",
    "df.drop(['date','flight_no'], axis = 1, inplace = True)"
   ]
  },
  {
   "cell_type": "code",
   "execution_count": 577,
   "metadata": {},
   "outputs": [
    {
     "data": {
      "text/html": [
       "<div>\n",
       "<style scoped>\n",
       "    .dataframe tbody tr th:only-of-type {\n",
       "        vertical-align: middle;\n",
       "    }\n",
       "\n",
       "    .dataframe tbody tr th {\n",
       "        vertical-align: top;\n",
       "    }\n",
       "\n",
       "    .dataframe thead th {\n",
       "        text-align: right;\n",
       "    }\n",
       "</style>\n",
       "<table border=\"1\" class=\"dataframe\">\n",
       "  <thead>\n",
       "    <tr style=\"text-align: right;\">\n",
       "      <th></th>\n",
       "      <th>airline</th>\n",
       "      <th>from</th>\n",
       "      <th>dep_timeframe</th>\n",
       "      <th>stop</th>\n",
       "      <th>arr_timeframe</th>\n",
       "      <th>to</th>\n",
       "      <th>duration</th>\n",
       "      <th>price</th>\n",
       "      <th>class</th>\n",
       "    </tr>\n",
       "  </thead>\n",
       "  <tbody>\n",
       "    <tr>\n",
       "      <th>0</th>\n",
       "      <td>Air India</td>\n",
       "      <td>Delhi</td>\n",
       "      <td>Evening</td>\n",
       "      <td>no-stops</td>\n",
       "      <td>Evening</td>\n",
       "      <td>Mumbai</td>\n",
       "      <td>2.00</td>\n",
       "      <td>25612</td>\n",
       "      <td>business</td>\n",
       "    </tr>\n",
       "    <tr>\n",
       "      <th>1</th>\n",
       "      <td>Air India</td>\n",
       "      <td>Delhi</td>\n",
       "      <td>Evening</td>\n",
       "      <td>no-stops</td>\n",
       "      <td>Night</td>\n",
       "      <td>Mumbai</td>\n",
       "      <td>2.25</td>\n",
       "      <td>25612</td>\n",
       "      <td>business</td>\n",
       "    </tr>\n",
       "    <tr>\n",
       "      <th>2</th>\n",
       "      <td>Air India</td>\n",
       "      <td>Delhi</td>\n",
       "      <td>Evening</td>\n",
       "      <td>one-stop</td>\n",
       "      <td>Evening</td>\n",
       "      <td>Mumbai</td>\n",
       "      <td>24.75</td>\n",
       "      <td>42220</td>\n",
       "      <td>business</td>\n",
       "    </tr>\n",
       "    <tr>\n",
       "      <th>3</th>\n",
       "      <td>Air India</td>\n",
       "      <td>Delhi</td>\n",
       "      <td>Night</td>\n",
       "      <td>one-stop</td>\n",
       "      <td>Night</td>\n",
       "      <td>Mumbai</td>\n",
       "      <td>26.50</td>\n",
       "      <td>44450</td>\n",
       "      <td>business</td>\n",
       "    </tr>\n",
       "    <tr>\n",
       "      <th>4</th>\n",
       "      <td>Air India</td>\n",
       "      <td>Delhi</td>\n",
       "      <td>Evening</td>\n",
       "      <td>one-stop</td>\n",
       "      <td>Night</td>\n",
       "      <td>Mumbai</td>\n",
       "      <td>6.67</td>\n",
       "      <td>46690</td>\n",
       "      <td>business</td>\n",
       "    </tr>\n",
       "  </tbody>\n",
       "</table>\n",
       "</div>"
      ],
      "text/plain": [
       "     airline   from dep_timeframe      stop arr_timeframe      to  duration  \\\n",
       "0  Air India  Delhi       Evening  no-stops       Evening  Mumbai      2.00   \n",
       "1  Air India  Delhi       Evening  no-stops         Night  Mumbai      2.25   \n",
       "2  Air India  Delhi       Evening  one-stop       Evening  Mumbai     24.75   \n",
       "3  Air India  Delhi         Night  one-stop         Night  Mumbai     26.50   \n",
       "4  Air India  Delhi       Evening  one-stop         Night  Mumbai      6.67   \n",
       "\n",
       "   price     class  \n",
       "0  25612  business  \n",
       "1  25612  business  \n",
       "2  42220  business  \n",
       "3  44450  business  \n",
       "4  46690  business  "
      ]
     },
     "execution_count": 577,
     "metadata": {},
     "output_type": "execute_result"
    }
   ],
   "source": [
    "df.head()"
   ]
  },
  {
   "cell_type": "code",
   "execution_count": 578,
   "metadata": {},
   "outputs": [],
   "source": [
    "df['class'] = df['class'].apply(lambda x: 1 if x == 'business' else 0)"
   ]
  },
  {
   "cell_type": "code",
   "execution_count": 579,
   "metadata": {},
   "outputs": [],
   "source": [
    "df['stop'] = df['stop'].map({'no-stops':0, 'one-stop':1, 'two-or-more-stops':2})"
   ]
  },
  {
   "cell_type": "code",
   "execution_count": 580,
   "metadata": {},
   "outputs": [
    {
     "data": {
      "text/plain": [
       "stop\n",
       "1    250927\n",
       "0     36044\n",
       "2     13286\n",
       "Name: count, dtype: int64"
      ]
     },
     "execution_count": 580,
     "metadata": {},
     "output_type": "execute_result"
    }
   ],
   "source": [
    "df['stop'].value_counts()"
   ]
  },
  {
   "cell_type": "code",
   "execution_count": 581,
   "metadata": {},
   "outputs": [],
   "source": [
    "df = pd.get_dummies(df, columns = ['airline', 'from', 'to','dep_timeframe', 'arr_timeframe'], dtype = 'int')"
   ]
  },
  {
   "cell_type": "code",
   "execution_count": 582,
   "metadata": {},
   "outputs": [
    {
     "data": {
      "text/html": [
       "<div>\n",
       "<style scoped>\n",
       "    .dataframe tbody tr th:only-of-type {\n",
       "        vertical-align: middle;\n",
       "    }\n",
       "\n",
       "    .dataframe tbody tr th {\n",
       "        vertical-align: top;\n",
       "    }\n",
       "\n",
       "    .dataframe thead th {\n",
       "        text-align: right;\n",
       "    }\n",
       "</style>\n",
       "<table border=\"1\" class=\"dataframe\">\n",
       "  <thead>\n",
       "    <tr style=\"text-align: right;\">\n",
       "      <th></th>\n",
       "      <th>stop</th>\n",
       "      <th>duration</th>\n",
       "      <th>price</th>\n",
       "      <th>class</th>\n",
       "      <th>airline_Air India</th>\n",
       "      <th>airline_AirAsia</th>\n",
       "      <th>airline_GO FIRST</th>\n",
       "      <th>airline_Indigo</th>\n",
       "      <th>airline_SpiceJet</th>\n",
       "      <th>airline_StarAir</th>\n",
       "      <th>...</th>\n",
       "      <th>dep_timeframe_Morning</th>\n",
       "      <th>dep_timeframe_Afternoon</th>\n",
       "      <th>dep_timeframe_Evening</th>\n",
       "      <th>dep_timeframe_Night</th>\n",
       "      <th>arr_timeframe_Late Night</th>\n",
       "      <th>arr_timeframe_Early Morning</th>\n",
       "      <th>arr_timeframe_Morning</th>\n",
       "      <th>arr_timeframe_Afternoon</th>\n",
       "      <th>arr_timeframe_Evening</th>\n",
       "      <th>arr_timeframe_Night</th>\n",
       "    </tr>\n",
       "  </thead>\n",
       "  <tbody>\n",
       "    <tr>\n",
       "      <th>0</th>\n",
       "      <td>0</td>\n",
       "      <td>2.00</td>\n",
       "      <td>25612</td>\n",
       "      <td>1</td>\n",
       "      <td>1</td>\n",
       "      <td>0</td>\n",
       "      <td>0</td>\n",
       "      <td>0</td>\n",
       "      <td>0</td>\n",
       "      <td>0</td>\n",
       "      <td>...</td>\n",
       "      <td>0</td>\n",
       "      <td>0</td>\n",
       "      <td>1</td>\n",
       "      <td>0</td>\n",
       "      <td>0</td>\n",
       "      <td>0</td>\n",
       "      <td>0</td>\n",
       "      <td>0</td>\n",
       "      <td>1</td>\n",
       "      <td>0</td>\n",
       "    </tr>\n",
       "    <tr>\n",
       "      <th>1</th>\n",
       "      <td>0</td>\n",
       "      <td>2.25</td>\n",
       "      <td>25612</td>\n",
       "      <td>1</td>\n",
       "      <td>1</td>\n",
       "      <td>0</td>\n",
       "      <td>0</td>\n",
       "      <td>0</td>\n",
       "      <td>0</td>\n",
       "      <td>0</td>\n",
       "      <td>...</td>\n",
       "      <td>0</td>\n",
       "      <td>0</td>\n",
       "      <td>1</td>\n",
       "      <td>0</td>\n",
       "      <td>0</td>\n",
       "      <td>0</td>\n",
       "      <td>0</td>\n",
       "      <td>0</td>\n",
       "      <td>0</td>\n",
       "      <td>1</td>\n",
       "    </tr>\n",
       "    <tr>\n",
       "      <th>2</th>\n",
       "      <td>1</td>\n",
       "      <td>24.75</td>\n",
       "      <td>42220</td>\n",
       "      <td>1</td>\n",
       "      <td>1</td>\n",
       "      <td>0</td>\n",
       "      <td>0</td>\n",
       "      <td>0</td>\n",
       "      <td>0</td>\n",
       "      <td>0</td>\n",
       "      <td>...</td>\n",
       "      <td>0</td>\n",
       "      <td>0</td>\n",
       "      <td>1</td>\n",
       "      <td>0</td>\n",
       "      <td>0</td>\n",
       "      <td>0</td>\n",
       "      <td>0</td>\n",
       "      <td>0</td>\n",
       "      <td>1</td>\n",
       "      <td>0</td>\n",
       "    </tr>\n",
       "    <tr>\n",
       "      <th>3</th>\n",
       "      <td>1</td>\n",
       "      <td>26.50</td>\n",
       "      <td>44450</td>\n",
       "      <td>1</td>\n",
       "      <td>1</td>\n",
       "      <td>0</td>\n",
       "      <td>0</td>\n",
       "      <td>0</td>\n",
       "      <td>0</td>\n",
       "      <td>0</td>\n",
       "      <td>...</td>\n",
       "      <td>0</td>\n",
       "      <td>0</td>\n",
       "      <td>0</td>\n",
       "      <td>1</td>\n",
       "      <td>0</td>\n",
       "      <td>0</td>\n",
       "      <td>0</td>\n",
       "      <td>0</td>\n",
       "      <td>0</td>\n",
       "      <td>1</td>\n",
       "    </tr>\n",
       "    <tr>\n",
       "      <th>4</th>\n",
       "      <td>1</td>\n",
       "      <td>6.67</td>\n",
       "      <td>46690</td>\n",
       "      <td>1</td>\n",
       "      <td>1</td>\n",
       "      <td>0</td>\n",
       "      <td>0</td>\n",
       "      <td>0</td>\n",
       "      <td>0</td>\n",
       "      <td>0</td>\n",
       "      <td>...</td>\n",
       "      <td>0</td>\n",
       "      <td>0</td>\n",
       "      <td>1</td>\n",
       "      <td>0</td>\n",
       "      <td>0</td>\n",
       "      <td>0</td>\n",
       "      <td>0</td>\n",
       "      <td>0</td>\n",
       "      <td>0</td>\n",
       "      <td>1</td>\n",
       "    </tr>\n",
       "  </tbody>\n",
       "</table>\n",
       "<p>5 rows × 36 columns</p>\n",
       "</div>"
      ],
      "text/plain": [
       "   stop  duration  price  class  airline_Air India  airline_AirAsia  \\\n",
       "0     0      2.00  25612      1                  1                0   \n",
       "1     0      2.25  25612      1                  1                0   \n",
       "2     1     24.75  42220      1                  1                0   \n",
       "3     1     26.50  44450      1                  1                0   \n",
       "4     1      6.67  46690      1                  1                0   \n",
       "\n",
       "   airline_GO FIRST  airline_Indigo  airline_SpiceJet  airline_StarAir  ...  \\\n",
       "0                 0               0                 0                0  ...   \n",
       "1                 0               0                 0                0  ...   \n",
       "2                 0               0                 0                0  ...   \n",
       "3                 0               0                 0                0  ...   \n",
       "4                 0               0                 0                0  ...   \n",
       "\n",
       "   dep_timeframe_Morning  dep_timeframe_Afternoon  dep_timeframe_Evening  \\\n",
       "0                      0                        0                      1   \n",
       "1                      0                        0                      1   \n",
       "2                      0                        0                      1   \n",
       "3                      0                        0                      0   \n",
       "4                      0                        0                      1   \n",
       "\n",
       "   dep_timeframe_Night  arr_timeframe_Late Night  arr_timeframe_Early Morning  \\\n",
       "0                    0                         0                            0   \n",
       "1                    0                         0                            0   \n",
       "2                    0                         0                            0   \n",
       "3                    1                         0                            0   \n",
       "4                    0                         0                            0   \n",
       "\n",
       "   arr_timeframe_Morning  arr_timeframe_Afternoon  arr_timeframe_Evening  \\\n",
       "0                      0                        0                      1   \n",
       "1                      0                        0                      0   \n",
       "2                      0                        0                      1   \n",
       "3                      0                        0                      0   \n",
       "4                      0                        0                      0   \n",
       "\n",
       "   arr_timeframe_Night  \n",
       "0                    0  \n",
       "1                    1  \n",
       "2                    0  \n",
       "3                    1  \n",
       "4                    1  \n",
       "\n",
       "[5 rows x 36 columns]"
      ]
     },
     "execution_count": 582,
     "metadata": {},
     "output_type": "execute_result"
    }
   ],
   "source": [
    "df.head()"
   ]
  },
  {
   "cell_type": "markdown",
   "metadata": {},
   "source": [
    "### Training Regression Model"
   ]
  },
  {
   "cell_type": "code",
   "execution_count": 583,
   "metadata": {},
   "outputs": [],
   "source": [
    "from sklearn.ensemble import RandomForestRegressor\n",
    "from sklearn.model_selection import train_test_split"
   ]
  },
  {
   "cell_type": "code",
   "execution_count": 584,
   "metadata": {},
   "outputs": [],
   "source": [
    "X = df.drop('price', axis = 1)\n",
    "y = df['price']"
   ]
  },
  {
   "cell_type": "code",
   "execution_count": 585,
   "metadata": {},
   "outputs": [
    {
     "data": {
      "text/plain": [
       "(300257, 35)"
      ]
     },
     "execution_count": 585,
     "metadata": {},
     "output_type": "execute_result"
    }
   ],
   "source": [
    "X.shape"
   ]
  },
  {
   "cell_type": "code",
   "execution_count": 586,
   "metadata": {},
   "outputs": [
    {
     "data": {
      "text/plain": [
       "(300257,)"
      ]
     },
     "execution_count": 586,
     "metadata": {},
     "output_type": "execute_result"
    }
   ],
   "source": [
    "y.shape"
   ]
  },
  {
   "cell_type": "code",
   "execution_count": 587,
   "metadata": {},
   "outputs": [],
   "source": [
    "X_train, X_test, y_train, y_test = train_test_split(X, y, test_size = 0.2, random_state = 42)"
   ]
  },
  {
   "cell_type": "code",
   "execution_count": 588,
   "metadata": {},
   "outputs": [
    {
     "data": {
      "text/plain": [
       "(240205, 35)"
      ]
     },
     "execution_count": 588,
     "metadata": {},
     "output_type": "execute_result"
    }
   ],
   "source": [
    "X_train.shape"
   ]
  },
  {
   "cell_type": "code",
   "execution_count": 589,
   "metadata": {},
   "outputs": [
    {
     "data": {
      "text/plain": [
       "(240205,)"
      ]
     },
     "execution_count": 589,
     "metadata": {},
     "output_type": "execute_result"
    }
   ],
   "source": [
    "y_train.shape"
   ]
  },
  {
   "cell_type": "code",
   "execution_count": 590,
   "metadata": {},
   "outputs": [
    {
     "data": {
      "text/html": [
       "<style>#sk-container-id-29 {color: black;}#sk-container-id-29 pre{padding: 0;}#sk-container-id-29 div.sk-toggleable {background-color: white;}#sk-container-id-29 label.sk-toggleable__label {cursor: pointer;display: block;width: 100%;margin-bottom: 0;padding: 0.3em;box-sizing: border-box;text-align: center;}#sk-container-id-29 label.sk-toggleable__label-arrow:before {content: \"▸\";float: left;margin-right: 0.25em;color: #696969;}#sk-container-id-29 label.sk-toggleable__label-arrow:hover:before {color: black;}#sk-container-id-29 div.sk-estimator:hover label.sk-toggleable__label-arrow:before {color: black;}#sk-container-id-29 div.sk-toggleable__content {max-height: 0;max-width: 0;overflow: hidden;text-align: left;background-color: #f0f8ff;}#sk-container-id-29 div.sk-toggleable__content pre {margin: 0.2em;color: black;border-radius: 0.25em;background-color: #f0f8ff;}#sk-container-id-29 input.sk-toggleable__control:checked~div.sk-toggleable__content {max-height: 200px;max-width: 100%;overflow: auto;}#sk-container-id-29 input.sk-toggleable__control:checked~label.sk-toggleable__label-arrow:before {content: \"▾\";}#sk-container-id-29 div.sk-estimator input.sk-toggleable__control:checked~label.sk-toggleable__label {background-color: #d4ebff;}#sk-container-id-29 div.sk-label input.sk-toggleable__control:checked~label.sk-toggleable__label {background-color: #d4ebff;}#sk-container-id-29 input.sk-hidden--visually {border: 0;clip: rect(1px 1px 1px 1px);clip: rect(1px, 1px, 1px, 1px);height: 1px;margin: -1px;overflow: hidden;padding: 0;position: absolute;width: 1px;}#sk-container-id-29 div.sk-estimator {font-family: monospace;background-color: #f0f8ff;border: 1px dotted black;border-radius: 0.25em;box-sizing: border-box;margin-bottom: 0.5em;}#sk-container-id-29 div.sk-estimator:hover {background-color: #d4ebff;}#sk-container-id-29 div.sk-parallel-item::after {content: \"\";width: 100%;border-bottom: 1px solid gray;flex-grow: 1;}#sk-container-id-29 div.sk-label:hover label.sk-toggleable__label {background-color: #d4ebff;}#sk-container-id-29 div.sk-serial::before {content: \"\";position: absolute;border-left: 1px solid gray;box-sizing: border-box;top: 0;bottom: 0;left: 50%;z-index: 0;}#sk-container-id-29 div.sk-serial {display: flex;flex-direction: column;align-items: center;background-color: white;padding-right: 0.2em;padding-left: 0.2em;position: relative;}#sk-container-id-29 div.sk-item {position: relative;z-index: 1;}#sk-container-id-29 div.sk-parallel {display: flex;align-items: stretch;justify-content: center;background-color: white;position: relative;}#sk-container-id-29 div.sk-item::before, #sk-container-id-29 div.sk-parallel-item::before {content: \"\";position: absolute;border-left: 1px solid gray;box-sizing: border-box;top: 0;bottom: 0;left: 50%;z-index: -1;}#sk-container-id-29 div.sk-parallel-item {display: flex;flex-direction: column;z-index: 1;position: relative;background-color: white;}#sk-container-id-29 div.sk-parallel-item:first-child::after {align-self: flex-end;width: 50%;}#sk-container-id-29 div.sk-parallel-item:last-child::after {align-self: flex-start;width: 50%;}#sk-container-id-29 div.sk-parallel-item:only-child::after {width: 0;}#sk-container-id-29 div.sk-dashed-wrapped {border: 1px dashed gray;margin: 0 0.4em 0.5em 0.4em;box-sizing: border-box;padding-bottom: 0.4em;background-color: white;}#sk-container-id-29 div.sk-label label {font-family: monospace;font-weight: bold;display: inline-block;line-height: 1.2em;}#sk-container-id-29 div.sk-label-container {text-align: center;}#sk-container-id-29 div.sk-container {/* jupyter's `normalize.less` sets `[hidden] { display: none; }` but bootstrap.min.css set `[hidden] { display: none !important; }` so we also need the `!important` here to be able to override the default hidden behavior on the sphinx rendered scikit-learn.org. See: https://github.com/scikit-learn/scikit-learn/issues/21755 */display: inline-block !important;position: relative;}#sk-container-id-29 div.sk-text-repr-fallback {display: none;}</style><div id=\"sk-container-id-29\" class=\"sk-top-container\"><div class=\"sk-text-repr-fallback\"><pre>RandomForestRegressor(n_jobs=-1, random_state=42)</pre><b>In a Jupyter environment, please rerun this cell to show the HTML representation or trust the notebook. <br />On GitHub, the HTML representation is unable to render, please try loading this page with nbviewer.org.</b></div><div class=\"sk-container\" hidden><div class=\"sk-item\"><div class=\"sk-estimator sk-toggleable\"><input class=\"sk-toggleable__control sk-hidden--visually\" id=\"sk-estimator-id-33\" type=\"checkbox\" checked><label for=\"sk-estimator-id-33\" class=\"sk-toggleable__label sk-toggleable__label-arrow\">RandomForestRegressor</label><div class=\"sk-toggleable__content\"><pre>RandomForestRegressor(n_jobs=-1, random_state=42)</pre></div></div></div></div></div>"
      ],
      "text/plain": [
       "RandomForestRegressor(n_jobs=-1, random_state=42)"
      ]
     },
     "execution_count": 590,
     "metadata": {},
     "output_type": "execute_result"
    }
   ],
   "source": [
    "reg = RandomForestRegressor(n_jobs = -1, random_state = 42)\n",
    "\n",
    "reg.fit(X_train, y_train)"
   ]
  },
  {
   "cell_type": "code",
   "execution_count": 591,
   "metadata": {},
   "outputs": [],
   "source": [
    "from sklearn.metrics import mean_absolute_error, mean_squared_error, r2_score"
   ]
  },
  {
   "cell_type": "code",
   "execution_count": 592,
   "metadata": {},
   "outputs": [],
   "source": [
    "y_pred = reg.predict(X_test)"
   ]
  },
  {
   "cell_type": "code",
   "execution_count": 593,
   "metadata": {},
   "outputs": [
    {
     "name": "stdout",
     "output_type": "stream",
     "text": [
      "R2 0.975537579868969\n",
      "MAE 2156.232476670637\n",
      "MSE 12588472.064149737\n",
      "RMSE 3548.02368427125\n"
     ]
    }
   ],
   "source": [
    "r2_0 = r2_score(y_test, y_pred)\n",
    "mae_0 = mean_absolute_error(y_test, y_pred)\n",
    "mse_0 = mean_squared_error(y_test, y_pred)\n",
    "rmse_0 = math.sqrt(mse_0)\n",
    "\n",
    "print('R2', r2_0)\n",
    "print('MAE', mae_0)\n",
    "print('MSE', mse_0)\n",
    "print('RMSE', rmse_0)"
   ]
  },
  {
   "cell_type": "code",
   "execution_count": 594,
   "metadata": {},
   "outputs": [
    {
     "data": {
      "text/plain": [
       "count    300257.000000\n",
       "mean      20883.926526\n",
       "std       22695.990185\n",
       "min        1105.000000\n",
       "25%        4783.000000\n",
       "50%        7425.000000\n",
       "75%       42521.000000\n",
       "max      123071.000000\n",
       "Name: price, dtype: float64"
      ]
     },
     "execution_count": 594,
     "metadata": {},
     "output_type": "execute_result"
    }
   ],
   "source": [
    "df['price'].describe()"
   ]
  },
  {
   "cell_type": "markdown",
   "metadata": {},
   "source": [
    "We see that we have a R<sup>2</sup> of 0.976 (97.6%) which is pretty high. This means that 97.6% of the variance in price is explained by the independent variables.\n",
    "\n",
    "The mean absolute error looks pretty high at 2156.232 but when we take a look at the prices (which looks to possibly be in Indian rupee based on the locations) in the dataset, the prices are varied in the 1000s to 100000s range so it's actually not as big as an error as it looks.\n",
    "\n",
    "The mean squared error is very high at over 12 million but the root mean sequared error looks more realistic at 3548.024."
   ]
  },
  {
   "cell_type": "code",
   "execution_count": 595,
   "metadata": {},
   "outputs": [
    {
     "data": {
      "image/png": "[encoded data removed]",
      "text/plain": [
       "<Figure size 640x480 with 1 Axes>"
      ]
     },
     "metadata": {},
     "output_type": "display_data"
    }
   ],
   "source": [
    "plt.scatter(y_test, y_pred)\n",
    "plt.xlabel('Actual Flight Prices')\n",
    "plt.ylabel('Predicted Flight Prices')\n",
    "plt.title('Predicted vs Actual Flight Prices')\n",
    "plt.show()"
   ]
  },
  {
   "cell_type": "markdown",
   "metadata": {},
   "source": [
    "We see that the graph looks more or less go in a linear direction."
   ]
  },
  {
   "cell_type": "code",
   "execution_count": 596,
   "metadata": {},
   "outputs": [
    {
     "data": {
      "text/plain": [
       "[('class', 0.8978490934892164),\n",
       " ('duration', 0.05769274966348409),\n",
       " ('airline_Vistara', 0.005809086383195064),\n",
       " ('airline_Air India', 0.004177502989721053),\n",
       " ('from_Delhi', 0.004062912422744548),\n",
       " ('to_Delhi', 0.0034989441491586155),\n",
       " ('stop', 0.002227723407654691),\n",
       " ('from_Mumbai', 0.002196373366335209),\n",
       " ('to_Kolkata', 0.0018938396802306984),\n",
       " ('to_Mumbai', 0.0018120220713577066),\n",
       " ('to_Hyderabad', 0.0016726393524601284),\n",
       " ('from_Hyderabad', 0.001663454599911488),\n",
       " ('from_Kolkata', 0.001622382091020667),\n",
       " ('dep_timeframe_Evening', 0.0014473630730854096),\n",
       " ('arr_timeframe_Early Morning', 0.0014328714255309556),\n",
       " ('arr_timeframe_Afternoon', 0.0013019897099271272),\n",
       " ('to_Bangalore', 0.0010673690516362247),\n",
       " ('from_Bangalore', 0.0010295481640103796),\n",
       " ('arr_timeframe_Night', 0.0009210728813832276),\n",
       " ('from_Chennai', 0.000873372653330981),\n",
       " ('to_Chennai', 0.0008046623660639971),\n",
       " ('arr_timeframe_Evening', 0.0007878364503696978),\n",
       " ('dep_timeframe_Morning', 0.000784727208398188),\n",
       " ('dep_timeframe_Afternoon', 0.0006729578419077203),\n",
       " ('dep_timeframe_Early Morning', 0.0006211580745418414),\n",
       " ('airline_AirAsia', 0.0005536939012153481),\n",
       " ('dep_timeframe_Night', 0.0005193110581599395),\n",
       " ('arr_timeframe_Morning', 0.00041761857138144257),\n",
       " ('arr_timeframe_Late Night', 0.0003005321555485559),\n",
       " ('dep_timeframe_Late Night', 0.00010334273629090074),\n",
       " ('airline_Indigo', 7.639917300630542e-05),\n",
       " ('airline_GO FIRST', 6.880765859093525e-05),\n",
       " ('airline_SpiceJet', 3.55432978862154e-05),\n",
       " ('airline_StarAir', 8.858799396746146e-07),\n",
       " ('airline_Trujet', 2.1300130456837624e-07)]"
      ]
     },
     "execution_count": 596,
     "metadata": {},
     "output_type": "execute_result"
    }
   ],
   "source": [
    "# seeing the imporantance of each variable\n",
    "\n",
    "importances = dict(zip(reg.feature_names_in_, reg.feature_importances_))\n",
    "sorted_importances = sorted(importances.items(), key = lambda x: x[1], reverse = True)\n",
    "\n",
    "sorted_importances"
   ]
  },
  {
   "cell_type": "code",
   "execution_count": 597,
   "metadata": {},
   "outputs": [],
   "source": [
    "importance_df = pd.DataFrame(data = sorted_importances)"
   ]
  },
  {
   "cell_type": "code",
   "execution_count": 598,
   "metadata": {},
   "outputs": [
    {
     "data": {
      "text/html": [
       "<div>\n",
       "<style scoped>\n",
       "    .dataframe tbody tr th:only-of-type {\n",
       "        vertical-align: middle;\n",
       "    }\n",
       "\n",
       "    .dataframe tbody tr th {\n",
       "        vertical-align: top;\n",
       "    }\n",
       "\n",
       "    .dataframe thead th {\n",
       "        text-align: right;\n",
       "    }\n",
       "</style>\n",
       "<table border=\"1\" class=\"dataframe\">\n",
       "  <thead>\n",
       "    <tr style=\"text-align: right;\">\n",
       "      <th></th>\n",
       "      <th>0</th>\n",
       "      <th>1</th>\n",
       "    </tr>\n",
       "  </thead>\n",
       "  <tbody>\n",
       "    <tr>\n",
       "      <th>0</th>\n",
       "      <td>class</td>\n",
       "      <td>0.897849</td>\n",
       "    </tr>\n",
       "    <tr>\n",
       "      <th>1</th>\n",
       "      <td>duration</td>\n",
       "      <td>0.057693</td>\n",
       "    </tr>\n",
       "    <tr>\n",
       "      <th>2</th>\n",
       "      <td>airline_Vistara</td>\n",
       "      <td>0.005809</td>\n",
       "    </tr>\n",
       "    <tr>\n",
       "      <th>3</th>\n",
       "      <td>airline_Air India</td>\n",
       "      <td>0.004178</td>\n",
       "    </tr>\n",
       "    <tr>\n",
       "      <th>4</th>\n",
       "      <td>from_Delhi</td>\n",
       "      <td>0.004063</td>\n",
       "    </tr>\n",
       "  </tbody>\n",
       "</table>\n",
       "</div>"
      ],
      "text/plain": [
       "                   0         1\n",
       "0              class  0.897849\n",
       "1           duration  0.057693\n",
       "2    airline_Vistara  0.005809\n",
       "3  airline_Air India  0.004178\n",
       "4         from_Delhi  0.004063"
      ]
     },
     "execution_count": 598,
     "metadata": {},
     "output_type": "execute_result"
    }
   ],
   "source": [
    "importance_df.head()"
   ]
  },
  {
   "cell_type": "code",
   "execution_count": 599,
   "metadata": {},
   "outputs": [
    {
     "data": {
      "image/png": "[encoded data removed]",
      "text/plain": [
       "<Figure size 1000x500 with 1 Axes>"
      ]
     },
     "metadata": {},
     "output_type": "display_data"
    }
   ],
   "source": [
    "fig, ax = plt.subplots(figsize=(10,5))\n",
    "sns.barplot(data = importance_df.head(5), x = 0, y = 1)\n",
    "plt.xlabel('Feature')\n",
    "plt.ylabel('Importance')\n",
    "plt.title('Feature Importance')\n",
    "plt.xticks(rotation = 45, horizontalalignment = 'right')\n",
    "\n",
    "for bars in ax.containers:\n",
    "    ax.bar_label(bars)\n",
    "\n",
    "plt.show()"
   ]
  },
  {
   "cell_type": "markdown",
   "metadata": {},
   "source": [
    "We see that class is by far the most important factor in price which makes sense since business class is a lot more expensive than economy class. Duration looks to be the next most important factor which does make sense but it is way lower than I expected when comparing to class."
   ]
  },
  {
   "cell_type": "markdown",
   "metadata": {},
   "source": [
    "### Hyperparameter Tuning\n",
    "\n",
    "I am tuning my model to see if it can produce better results. I will run through different variations of the model using different parameters to see if there are any improvements."
   ]
  },
  {
   "cell_type": "code",
   "execution_count": 600,
   "metadata": {},
   "outputs": [],
   "source": [
    "from sklearn.model_selection import GridSearchCV"
   ]
  },
  {
   "cell_type": "markdown",
   "metadata": {},
   "source": [
    "### Full Grid Search"
   ]
  },
  {
   "cell_type": "code",
   "execution_count": 601,
   "metadata": {},
   "outputs": [],
   "source": [
    "# reg = RandomForestRegressor(n_jobs = -1, random_state = 42)"
   ]
  },
  {
   "cell_type": "code",
   "execution_count": 602,
   "metadata": {},
   "outputs": [],
   "source": [
    "param_grid = {\n",
    "    'n_estimators': [100, 200, 300], # if the highest value is the best maybe can try higher numbers\n",
    "    'max_depth': [None, 10, 20, 30],\n",
    "    'min_samples_split': [2, 5, 10],\n",
    "    'min_samples_leaf': [1, 2, 4],\n",
    "    'max_features': ['auto', 'sqrt']\n",
    "}"
   ]
  },
  {
   "cell_type": "code",
   "execution_count": 603,
   "metadata": {},
   "outputs": [],
   "source": [
    "# this will take a while (~20 minutes)\n",
    "\n",
    "#grid_search = GridSearchCV(reg, param_grid, cv = 5)\n",
    "#grid_search.fit(X_train, y_train)"
   ]
  },
  {
   "cell_type": "code",
   "execution_count": 604,
   "metadata": {},
   "outputs": [],
   "source": [
    "#best_params = grid_search.best_params_"
   ]
  },
  {
   "cell_type": "code",
   "execution_count": 605,
   "metadata": {},
   "outputs": [],
   "source": [
    "#best_params"
   ]
  },
  {
   "cell_type": "markdown",
   "metadata": {},
   "source": [
    "**Best Parameters:**\n",
    "\n",
    "{'max_depth': 30, \\\n",
    " 'max_features': 'sqrt', \\\n",
    " 'min_samples_leaf': 1, \\\n",
    " 'min_samples_split': 2, \\\n",
    " 'n_estimators': 300}"
   ]
  },
  {
   "cell_type": "markdown",
   "metadata": {},
   "source": [
    "### n_estimator = 300"
   ]
  },
  {
   "cell_type": "code",
   "execution_count": 606,
   "metadata": {},
   "outputs": [
    {
     "data": {
      "text/html": [
       "<style>#sk-container-id-30 {color: black;}#sk-container-id-30 pre{padding: 0;}#sk-container-id-30 div.sk-toggleable {background-color: white;}#sk-container-id-30 label.sk-toggleable__label {cursor: pointer;display: block;width: 100%;margin-bottom: 0;padding: 0.3em;box-sizing: border-box;text-align: center;}#sk-container-id-30 label.sk-toggleable__label-arrow:before {content: \"▸\";float: left;margin-right: 0.25em;color: #696969;}#sk-container-id-30 label.sk-toggleable__label-arrow:hover:before {color: black;}#sk-container-id-30 div.sk-estimator:hover label.sk-toggleable__label-arrow:before {color: black;}#sk-container-id-30 div.sk-toggleable__content {max-height: 0;max-width: 0;overflow: hidden;text-align: left;background-color: #f0f8ff;}#sk-container-id-30 div.sk-toggleable__content pre {margin: 0.2em;color: black;border-radius: 0.25em;background-color: #f0f8ff;}#sk-container-id-30 input.sk-toggleable__control:checked~div.sk-toggleable__content {max-height: 200px;max-width: 100%;overflow: auto;}#sk-container-id-30 input.sk-toggleable__control:checked~label.sk-toggleable__label-arrow:before {content: \"▾\";}#sk-container-id-30 div.sk-estimator input.sk-toggleable__control:checked~label.sk-toggleable__label {background-color: #d4ebff;}#sk-container-id-30 div.sk-label input.sk-toggleable__control:checked~label.sk-toggleable__label {background-color: #d4ebff;}#sk-container-id-30 input.sk-hidden--visually {border: 0;clip: rect(1px 1px 1px 1px);clip: rect(1px, 1px, 1px, 1px);height: 1px;margin: -1px;overflow: hidden;padding: 0;position: absolute;width: 1px;}#sk-container-id-30 div.sk-estimator {font-family: monospace;background-color: #f0f8ff;border: 1px dotted black;border-radius: 0.25em;box-sizing: border-box;margin-bottom: 0.5em;}#sk-container-id-30 div.sk-estimator:hover {background-color: #d4ebff;}#sk-container-id-30 div.sk-parallel-item::after {content: \"\";width: 100%;border-bottom: 1px solid gray;flex-grow: 1;}#sk-container-id-30 div.sk-label:hover label.sk-toggleable__label {background-color: #d4ebff;}#sk-container-id-30 div.sk-serial::before {content: \"\";position: absolute;border-left: 1px solid gray;box-sizing: border-box;top: 0;bottom: 0;left: 50%;z-index: 0;}#sk-container-id-30 div.sk-serial {display: flex;flex-direction: column;align-items: center;background-color: white;padding-right: 0.2em;padding-left: 0.2em;position: relative;}#sk-container-id-30 div.sk-item {position: relative;z-index: 1;}#sk-container-id-30 div.sk-parallel {display: flex;align-items: stretch;justify-content: center;background-color: white;position: relative;}#sk-container-id-30 div.sk-item::before, #sk-container-id-30 div.sk-parallel-item::before {content: \"\";position: absolute;border-left: 1px solid gray;box-sizing: border-box;top: 0;bottom: 0;left: 50%;z-index: -1;}#sk-container-id-30 div.sk-parallel-item {display: flex;flex-direction: column;z-index: 1;position: relative;background-color: white;}#sk-container-id-30 div.sk-parallel-item:first-child::after {align-self: flex-end;width: 50%;}#sk-container-id-30 div.sk-parallel-item:last-child::after {align-self: flex-start;width: 50%;}#sk-container-id-30 div.sk-parallel-item:only-child::after {width: 0;}#sk-container-id-30 div.sk-dashed-wrapped {border: 1px dashed gray;margin: 0 0.4em 0.5em 0.4em;box-sizing: border-box;padding-bottom: 0.4em;background-color: white;}#sk-container-id-30 div.sk-label label {font-family: monospace;font-weight: bold;display: inline-block;line-height: 1.2em;}#sk-container-id-30 div.sk-label-container {text-align: center;}#sk-container-id-30 div.sk-container {/* jupyter's `normalize.less` sets `[hidden] { display: none; }` but bootstrap.min.css set `[hidden] { display: none !important; }` so we also need the `!important` here to be able to override the default hidden behavior on the sphinx rendered scikit-learn.org. See: https://github.com/scikit-learn/scikit-learn/issues/21755 */display: inline-block !important;position: relative;}#sk-container-id-30 div.sk-text-repr-fallback {display: none;}</style><div id=\"sk-container-id-30\" class=\"sk-top-container\"><div class=\"sk-text-repr-fallback\"><pre>RandomForestRegressor(max_depth=30, max_features=&#x27;sqrt&#x27;, n_estimators=300,\n",
       "                      n_jobs=-1, random_state=42)</pre><b>In a Jupyter environment, please rerun this cell to show the HTML representation or trust the notebook. <br />On GitHub, the HTML representation is unable to render, please try loading this page with nbviewer.org.</b></div><div class=\"sk-container\" hidden><div class=\"sk-item\"><div class=\"sk-estimator sk-toggleable\"><input class=\"sk-toggleable__control sk-hidden--visually\" id=\"sk-estimator-id-34\" type=\"checkbox\" checked><label for=\"sk-estimator-id-34\" class=\"sk-toggleable__label sk-toggleable__label-arrow\">RandomForestRegressor</label><div class=\"sk-toggleable__content\"><pre>RandomForestRegressor(max_depth=30, max_features=&#x27;sqrt&#x27;, n_estimators=300,\n",
       "                      n_jobs=-1, random_state=42)</pre></div></div></div></div></div>"
      ],
      "text/plain": [
       "RandomForestRegressor(max_depth=30, max_features='sqrt', n_estimators=300,\n",
       "                      n_jobs=-1, random_state=42)"
      ]
     },
     "execution_count": 606,
     "metadata": {},
     "output_type": "execute_result"
    }
   ],
   "source": [
    "reg_300 = RandomForestRegressor(n_jobs = -1,\n",
    "                            max_depth = 30,\n",
    "                            max_features = 'sqrt',\n",
    "                            min_samples_leaf = 1,\n",
    "                            min_samples_split = 2,\n",
    "                            n_estimators = 300,\n",
    "                            random_state = 42\n",
    "                            )\n",
    "\n",
    "reg_300.fit(X_train, y_train)"
   ]
  },
  {
   "cell_type": "code",
   "execution_count": 607,
   "metadata": {},
   "outputs": [],
   "source": [
    "y_pred_300 = reg_300.predict(X_test)"
   ]
  },
  {
   "cell_type": "code",
   "execution_count": 608,
   "metadata": {},
   "outputs": [
    {
     "name": "stdout",
     "output_type": "stream",
     "text": [
      "R2 0.9754384097696732\n",
      "MAE 2159.819610543538\n",
      "MSE 12639505.44587965\n",
      "RMSE 3555.2082141387514\n"
     ]
    }
   ],
   "source": [
    "r2_300 = r2_score(y_test, y_pred_300)\n",
    "mae_300 = mean_absolute_error(y_test, y_pred_300)\n",
    "mse_300 = mean_squared_error(y_test, y_pred_300)\n",
    "rmse_300 = math.sqrt(mse_300)\n",
    "\n",
    "print('R2', r2_300)\n",
    "print('MAE', mae_300)\n",
    "print('MSE', mse_300)\n",
    "print('RMSE', rmse_300)"
   ]
  },
  {
   "cell_type": "code",
   "execution_count": 609,
   "metadata": {},
   "outputs": [
    {
     "data": {
      "text/plain": [
       "[('class', 0.7800578525333435),\n",
       " ('duration', 0.05181906909437035),\n",
       " ('airline_Vistara', 0.04440105696497463),\n",
       " ('airline_Indigo', 0.0254227253498802),\n",
       " ('stop', 0.019609454501221167),\n",
       " ('airline_GO FIRST', 0.013039034345208615),\n",
       " ('airline_Air India', 0.01191594364657363),\n",
       " ('airline_AirAsia', 0.009544999238544674),\n",
       " ('airline_SpiceJet', 0.003815625597167155),\n",
       " ('from_Delhi', 0.0027849703709967493),\n",
       " ('to_Delhi', 0.0024487606687453242),\n",
       " ('to_Mumbai', 0.0024483188365412426),\n",
       " ('from_Mumbai', 0.0022980562902227405),\n",
       " ('to_Kolkata', 0.002193848264609958),\n",
       " ('from_Kolkata', 0.002098599979224204),\n",
       " ('dep_timeframe_Evening', 0.0019901768380421055),\n",
       " ('to_Bangalore', 0.001876431262432511),\n",
       " ('to_Hyderabad', 0.001817008297714613),\n",
       " ('from_Hyderabad', 0.0017869227764684263),\n",
       " ('from_Bangalore', 0.0017600948002873026),\n",
       " ('arr_timeframe_Late Night', 0.0016372066563517028),\n",
       " ('dep_timeframe_Afternoon', 0.0015631393659639972),\n",
       " ('arr_timeframe_Early Morning', 0.0015403805630153586),\n",
       " ('arr_timeframe_Evening', 0.0015287839496628296),\n",
       " ('from_Chennai', 0.001400447450778026),\n",
       " ('dep_timeframe_Morning', 0.0013970605247407466),\n",
       " ('to_Chennai', 0.0013865124032191936),\n",
       " ('arr_timeframe_Night', 0.001367971440744937),\n",
       " ('dep_timeframe_Early Morning', 0.001263693988833662),\n",
       " ('arr_timeframe_Afternoon', 0.0011966431657932704),\n",
       " ('arr_timeframe_Morning', 0.0011644459686541502),\n",
       " ('dep_timeframe_Night', 0.001006372291038545),\n",
       " ('dep_timeframe_Late Night', 0.00041162160309195727),\n",
       " ('airline_Trujet', 4.1972036277304574e-06),\n",
       " ('airline_StarAir', 2.5737679149296344e-06)]"
      ]
     },
     "execution_count": 609,
     "metadata": {},
     "output_type": "execute_result"
    }
   ],
   "source": [
    "importances_300 = dict(zip(reg_300.feature_names_in_, reg_300.feature_importances_))\n",
    "sorted_importances_300 = sorted(importances_300.items(), key = lambda x: x[1], reverse = True)\n",
    "\n",
    "sorted_importances_300"
   ]
  },
  {
   "cell_type": "code",
   "execution_count": 610,
   "metadata": {},
   "outputs": [],
   "source": [
    "importance_df_300 = pd.DataFrame(data = sorted_importances_300)"
   ]
  },
  {
   "cell_type": "code",
   "execution_count": 611,
   "metadata": {},
   "outputs": [
    {
     "data": {
      "text/html": [
       "<div>\n",
       "<style scoped>\n",
       "    .dataframe tbody tr th:only-of-type {\n",
       "        vertical-align: middle;\n",
       "    }\n",
       "\n",
       "    .dataframe tbody tr th {\n",
       "        vertical-align: top;\n",
       "    }\n",
       "\n",
       "    .dataframe thead th {\n",
       "        text-align: right;\n",
       "    }\n",
       "</style>\n",
       "<table border=\"1\" class=\"dataframe\">\n",
       "  <thead>\n",
       "    <tr style=\"text-align: right;\">\n",
       "      <th></th>\n",
       "      <th>0</th>\n",
       "      <th>1</th>\n",
       "    </tr>\n",
       "  </thead>\n",
       "  <tbody>\n",
       "    <tr>\n",
       "      <th>0</th>\n",
       "      <td>class</td>\n",
       "      <td>0.780058</td>\n",
       "    </tr>\n",
       "    <tr>\n",
       "      <th>1</th>\n",
       "      <td>duration</td>\n",
       "      <td>0.051819</td>\n",
       "    </tr>\n",
       "    <tr>\n",
       "      <th>2</th>\n",
       "      <td>airline_Vistara</td>\n",
       "      <td>0.044401</td>\n",
       "    </tr>\n",
       "    <tr>\n",
       "      <th>3</th>\n",
       "      <td>airline_Indigo</td>\n",
       "      <td>0.025423</td>\n",
       "    </tr>\n",
       "    <tr>\n",
       "      <th>4</th>\n",
       "      <td>stop</td>\n",
       "      <td>0.019609</td>\n",
       "    </tr>\n",
       "  </tbody>\n",
       "</table>\n",
       "</div>"
      ],
      "text/plain": [
       "                 0         1\n",
       "0            class  0.780058\n",
       "1         duration  0.051819\n",
       "2  airline_Vistara  0.044401\n",
       "3   airline_Indigo  0.025423\n",
       "4             stop  0.019609"
      ]
     },
     "execution_count": 611,
     "metadata": {},
     "output_type": "execute_result"
    }
   ],
   "source": [
    "importance_df_300.head()"
   ]
  },
  {
   "cell_type": "code",
   "execution_count": 612,
   "metadata": {},
   "outputs": [
    {
     "data": {
      "image/png": "[encoded data removed]",
      "text/plain": [
       "<Figure size 1000x500 with 1 Axes>"
      ]
     },
     "metadata": {},
     "output_type": "display_data"
    }
   ],
   "source": [
    "fig, ax = plt.subplots(figsize=(10,5))\n",
    "sns.barplot(data = importance_df_300.head(5), x = 0, y = 1)\n",
    "plt.xlabel('Feature')\n",
    "plt.ylabel('Importance')\n",
    "plt.title('Feature Importance')\n",
    "plt.xticks(rotation = 45, horizontalalignment = 'right')\n",
    "\n",
    "for bars in ax.containers:\n",
    "    ax.bar_label(bars)\n",
    "\n",
    "plt.show()"
   ]
  },
  {
   "cell_type": "markdown",
   "metadata": {},
   "source": [
    "### n_estimator = 500\n",
    "\n",
    "Since the gridsearch's best parameters for the n_estimator was 300, I want to see if increasing that to 500 makes any difference."
   ]
  },
  {
   "cell_type": "code",
   "execution_count": 613,
   "metadata": {},
   "outputs": [
    {
     "data": {
      "text/html": [
       "<style>#sk-container-id-31 {color: black;}#sk-container-id-31 pre{padding: 0;}#sk-container-id-31 div.sk-toggleable {background-color: white;}#sk-container-id-31 label.sk-toggleable__label {cursor: pointer;display: block;width: 100%;margin-bottom: 0;padding: 0.3em;box-sizing: border-box;text-align: center;}#sk-container-id-31 label.sk-toggleable__label-arrow:before {content: \"▸\";float: left;margin-right: 0.25em;color: #696969;}#sk-container-id-31 label.sk-toggleable__label-arrow:hover:before {color: black;}#sk-container-id-31 div.sk-estimator:hover label.sk-toggleable__label-arrow:before {color: black;}#sk-container-id-31 div.sk-toggleable__content {max-height: 0;max-width: 0;overflow: hidden;text-align: left;background-color: #f0f8ff;}#sk-container-id-31 div.sk-toggleable__content pre {margin: 0.2em;color: black;border-radius: 0.25em;background-color: #f0f8ff;}#sk-container-id-31 input.sk-toggleable__control:checked~div.sk-toggleable__content {max-height: 200px;max-width: 100%;overflow: auto;}#sk-container-id-31 input.sk-toggleable__control:checked~label.sk-toggleable__label-arrow:before {content: \"▾\";}#sk-container-id-31 div.sk-estimator input.sk-toggleable__control:checked~label.sk-toggleable__label {background-color: #d4ebff;}#sk-container-id-31 div.sk-label input.sk-toggleable__control:checked~label.sk-toggleable__label {background-color: #d4ebff;}#sk-container-id-31 input.sk-hidden--visually {border: 0;clip: rect(1px 1px 1px 1px);clip: rect(1px, 1px, 1px, 1px);height: 1px;margin: -1px;overflow: hidden;padding: 0;position: absolute;width: 1px;}#sk-container-id-31 div.sk-estimator {font-family: monospace;background-color: #f0f8ff;border: 1px dotted black;border-radius: 0.25em;box-sizing: border-box;margin-bottom: 0.5em;}#sk-container-id-31 div.sk-estimator:hover {background-color: #d4ebff;}#sk-container-id-31 div.sk-parallel-item::after {content: \"\";width: 100%;border-bottom: 1px solid gray;flex-grow: 1;}#sk-container-id-31 div.sk-label:hover label.sk-toggleable__label {background-color: #d4ebff;}#sk-container-id-31 div.sk-serial::before {content: \"\";position: absolute;border-left: 1px solid gray;box-sizing: border-box;top: 0;bottom: 0;left: 50%;z-index: 0;}#sk-container-id-31 div.sk-serial {display: flex;flex-direction: column;align-items: center;background-color: white;padding-right: 0.2em;padding-left: 0.2em;position: relative;}#sk-container-id-31 div.sk-item {position: relative;z-index: 1;}#sk-container-id-31 div.sk-parallel {display: flex;align-items: stretch;justify-content: center;background-color: white;position: relative;}#sk-container-id-31 div.sk-item::before, #sk-container-id-31 div.sk-parallel-item::before {content: \"\";position: absolute;border-left: 1px solid gray;box-sizing: border-box;top: 0;bottom: 0;left: 50%;z-index: -1;}#sk-container-id-31 div.sk-parallel-item {display: flex;flex-direction: column;z-index: 1;position: relative;background-color: white;}#sk-container-id-31 div.sk-parallel-item:first-child::after {align-self: flex-end;width: 50%;}#sk-container-id-31 div.sk-parallel-item:last-child::after {align-self: flex-start;width: 50%;}#sk-container-id-31 div.sk-parallel-item:only-child::after {width: 0;}#sk-container-id-31 div.sk-dashed-wrapped {border: 1px dashed gray;margin: 0 0.4em 0.5em 0.4em;box-sizing: border-box;padding-bottom: 0.4em;background-color: white;}#sk-container-id-31 div.sk-label label {font-family: monospace;font-weight: bold;display: inline-block;line-height: 1.2em;}#sk-container-id-31 div.sk-label-container {text-align: center;}#sk-container-id-31 div.sk-container {/* jupyter's `normalize.less` sets `[hidden] { display: none; }` but bootstrap.min.css set `[hidden] { display: none !important; }` so we also need the `!important` here to be able to override the default hidden behavior on the sphinx rendered scikit-learn.org. See: https://github.com/scikit-learn/scikit-learn/issues/21755 */display: inline-block !important;position: relative;}#sk-container-id-31 div.sk-text-repr-fallback {display: none;}</style><div id=\"sk-container-id-31\" class=\"sk-top-container\"><div class=\"sk-text-repr-fallback\"><pre>RandomForestRegressor(max_depth=30, max_features=&#x27;sqrt&#x27;, n_estimators=500,\n",
       "                      n_jobs=-1)</pre><b>In a Jupyter environment, please rerun this cell to show the HTML representation or trust the notebook. <br />On GitHub, the HTML representation is unable to render, please try loading this page with nbviewer.org.</b></div><div class=\"sk-container\" hidden><div class=\"sk-item\"><div class=\"sk-estimator sk-toggleable\"><input class=\"sk-toggleable__control sk-hidden--visually\" id=\"sk-estimator-id-35\" type=\"checkbox\" checked><label for=\"sk-estimator-id-35\" class=\"sk-toggleable__label sk-toggleable__label-arrow\">RandomForestRegressor</label><div class=\"sk-toggleable__content\"><pre>RandomForestRegressor(max_depth=30, max_features=&#x27;sqrt&#x27;, n_estimators=500,\n",
       "                      n_jobs=-1)</pre></div></div></div></div></div>"
      ],
      "text/plain": [
       "RandomForestRegressor(max_depth=30, max_features='sqrt', n_estimators=500,\n",
       "                      n_jobs=-1)"
      ]
     },
     "execution_count": 613,
     "metadata": {},
     "output_type": "execute_result"
    }
   ],
   "source": [
    "reg_500 = RandomForestRegressor(n_jobs = -1,\n",
    "                            max_depth = 30,\n",
    "                            max_features = 'sqrt',\n",
    "                            min_samples_leaf = 1,\n",
    "                            min_samples_split = 2,\n",
    "                            n_estimators = 500\n",
    "                            )\n",
    "\n",
    "reg_500.fit(X_train, y_train)"
   ]
  },
  {
   "cell_type": "code",
   "execution_count": 614,
   "metadata": {},
   "outputs": [],
   "source": [
    "y_pred_500 = reg_500.predict(X_test)"
   ]
  },
  {
   "cell_type": "code",
   "execution_count": 615,
   "metadata": {},
   "outputs": [
    {
     "name": "stdout",
     "output_type": "stream",
     "text": [
      "R2 0.9754494499989488\n",
      "MAE 2159.3588697247415\n",
      "MSE 12633824.093949908\n",
      "RMSE 3554.409106159547\n"
     ]
    }
   ],
   "source": [
    "r2_500 = r2_score(y_test, y_pred_500)\n",
    "mae_500 = mean_absolute_error(y_test, y_pred_500)\n",
    "mse_500 = mean_squared_error(y_test, y_pred_500)\n",
    "rmse_500 = math.sqrt(mse_500)\n",
    "\n",
    "print('R2', r2_500)\n",
    "print('MAE', mae_500)\n",
    "print('MSE', mse_500)\n",
    "print('RMSE', rmse_500)"
   ]
  },
  {
   "cell_type": "code",
   "execution_count": 616,
   "metadata": {},
   "outputs": [
    {
     "data": {
      "text/plain": [
       "[('class', 0.7764278649893839),\n",
       " ('airline_Vistara', 0.0493231883249077),\n",
       " ('duration', 0.04866606890856761),\n",
       " ('airline_Indigo', 0.025164470720011947),\n",
       " ('stop', 0.0204020061891912),\n",
       " ('airline_GO FIRST', 0.0136524240054467),\n",
       " ('airline_Air India', 0.013040124683401285),\n",
       " ('airline_AirAsia', 0.00994462793186496),\n",
       " ('airline_SpiceJet', 0.0036196017139443343),\n",
       " ('from_Delhi', 0.0027628171270847263),\n",
       " ('to_Delhi', 0.0025062649460316244),\n",
       " ('to_Mumbai', 0.0024213641004029477),\n",
       " ('to_Kolkata', 0.002203973820030954),\n",
       " ('from_Mumbai', 0.002201417409932175),\n",
       " ('from_Kolkata', 0.002062922787233494),\n",
       " ('dep_timeframe_Evening', 0.001988319896404288),\n",
       " ('to_Bangalore', 0.0018387106072667709),\n",
       " ('to_Hyderabad', 0.001776951363789628),\n",
       " ('from_Hyderabad', 0.001722720304128293),\n",
       " ('from_Bangalore', 0.0017121002790922038),\n",
       " ('arr_timeframe_Early Morning', 0.001593155654630191),\n",
       " ('arr_timeframe_Late Night', 0.001591893974604109),\n",
       " ('dep_timeframe_Afternoon', 0.0015355096091455936),\n",
       " ('arr_timeframe_Evening', 0.0014969427705984768),\n",
       " ('to_Chennai', 0.0013866554844523746),\n",
       " ('arr_timeframe_Night', 0.001385032123389888),\n",
       " ('from_Chennai', 0.0013724410765353948),\n",
       " ('dep_timeframe_Morning', 0.0013155778440224017),\n",
       " ('arr_timeframe_Afternoon', 0.0011856431294437388),\n",
       " ('arr_timeframe_Morning', 0.0011848609866484925),\n",
       " ('dep_timeframe_Early Morning', 0.0011494121144384813),\n",
       " ('dep_timeframe_Night', 0.0009570032624290201),\n",
       " ('dep_timeframe_Late Night', 0.00040192413995382474),\n",
       " ('airline_Trujet', 3.363180174467818e-06),\n",
       " ('airline_StarAir', 2.6445414167039345e-06)]"
      ]
     },
     "execution_count": 616,
     "metadata": {},
     "output_type": "execute_result"
    }
   ],
   "source": [
    "importances_500 = dict(zip(reg_500.feature_names_in_, reg_500.feature_importances_))\n",
    "sorted_importances_500 = sorted(importances_500.items(), key = lambda x: x[1], reverse = True)\n",
    "\n",
    "sorted_importances_500"
   ]
  },
  {
   "cell_type": "code",
   "execution_count": 617,
   "metadata": {},
   "outputs": [],
   "source": [
    "importance_df_500 = pd.DataFrame(data = sorted_importances_500)"
   ]
  },
  {
   "cell_type": "code",
   "execution_count": 618,
   "metadata": {},
   "outputs": [
    {
     "data": {
      "text/html": [
       "<div>\n",
       "<style scoped>\n",
       "    .dataframe tbody tr th:only-of-type {\n",
       "        vertical-align: middle;\n",
       "    }\n",
       "\n",
       "    .dataframe tbody tr th {\n",
       "        vertical-align: top;\n",
       "    }\n",
       "\n",
       "    .dataframe thead th {\n",
       "        text-align: right;\n",
       "    }\n",
       "</style>\n",
       "<table border=\"1\" class=\"dataframe\">\n",
       "  <thead>\n",
       "    <tr style=\"text-align: right;\">\n",
       "      <th></th>\n",
       "      <th>0</th>\n",
       "      <th>1</th>\n",
       "    </tr>\n",
       "  </thead>\n",
       "  <tbody>\n",
       "    <tr>\n",
       "      <th>0</th>\n",
       "      <td>class</td>\n",
       "      <td>0.776428</td>\n",
       "    </tr>\n",
       "    <tr>\n",
       "      <th>1</th>\n",
       "      <td>airline_Vistara</td>\n",
       "      <td>0.049323</td>\n",
       "    </tr>\n",
       "    <tr>\n",
       "      <th>2</th>\n",
       "      <td>duration</td>\n",
       "      <td>0.048666</td>\n",
       "    </tr>\n",
       "    <tr>\n",
       "      <th>3</th>\n",
       "      <td>airline_Indigo</td>\n",
       "      <td>0.025164</td>\n",
       "    </tr>\n",
       "    <tr>\n",
       "      <th>4</th>\n",
       "      <td>stop</td>\n",
       "      <td>0.020402</td>\n",
       "    </tr>\n",
       "  </tbody>\n",
       "</table>\n",
       "</div>"
      ],
      "text/plain": [
       "                 0         1\n",
       "0            class  0.776428\n",
       "1  airline_Vistara  0.049323\n",
       "2         duration  0.048666\n",
       "3   airline_Indigo  0.025164\n",
       "4             stop  0.020402"
      ]
     },
     "execution_count": 618,
     "metadata": {},
     "output_type": "execute_result"
    }
   ],
   "source": [
    "importance_df_500.head()"
   ]
  },
  {
   "cell_type": "code",
   "execution_count": 619,
   "metadata": {},
   "outputs": [
    {
     "data": {
      "image/png": "[encoded data removed]",
      "text/plain": [
       "<Figure size 1000x500 with 1 Axes>"
      ]
     },
     "metadata": {},
     "output_type": "display_data"
    }
   ],
   "source": [
    "fig, ax = plt.subplots(figsize=(10,5))\n",
    "sns.barplot(data = importance_df_500.head(5), x = 0, y = 1)\n",
    "plt.xlabel('Feature')\n",
    "plt.ylabel('Importance')\n",
    "plt.title('Feature Importance')\n",
    "plt.xticks(rotation = 45, horizontalalignment = 'right')\n",
    "\n",
    "for bars in ax.containers:\n",
    "    ax.bar_label(bars)\n",
    "\n",
    "plt.show()"
   ]
  },
  {
   "cell_type": "markdown",
   "metadata": {},
   "source": [
    "### Random Search"
   ]
  },
  {
   "cell_type": "code",
   "execution_count": 620,
   "metadata": {},
   "outputs": [],
   "source": [
    "# for when you don't have much time\n",
    "# provide ranges and pick random values that work\n",
    "# way less attempts\n",
    "\n",
    "from sklearn.model_selection import RandomizedSearchCV\n",
    "from scipy.stats import randint"
   ]
  },
  {
   "cell_type": "code",
   "execution_count": 621,
   "metadata": {},
   "outputs": [],
   "source": [
    "param_dist =  {\n",
    "    'n_estimators': randint(100,500),\n",
    "    'max_depth': [None, 10, 20, 30, 40, 50],\n",
    "    'min_samples_split': randint(2,11),\n",
    "    'min_samples_leaf': randint(1,5),\n",
    "    'max_features': [1.0, 'auto', 'sqrt']\n",
    "}"
   ]
  },
  {
   "cell_type": "code",
   "execution_count": 622,
   "metadata": {},
   "outputs": [],
   "source": [
    "reg_rand = RandomForestRegressor(n_jobs = -1, random_state = 42)"
   ]
  },
  {
   "cell_type": "code",
   "execution_count": 623,
   "metadata": {},
   "outputs": [],
   "source": [
    "random_search = RandomizedSearchCV(estimator = reg_rand, param_distributions = param_dist, n_iter = 2, cv = 3, # 2 iterations of 3 cv's = 6 attempts\n",
    "                                   scoring = 'neg_mean_squared_error', verbose = 2, random_state = 42, n_jobs = -1)"
   ]
  },
  {
   "cell_type": "code",
   "execution_count": 624,
   "metadata": {},
   "outputs": [
    {
     "name": "stdout",
     "output_type": "stream",
     "text": [
      "Fitting 3 folds for each of 2 candidates, totalling 6 fits\n"
     ]
    },
    {
     "data": {
      "text/html": [
       "<style>#sk-container-id-32 {color: black;}#sk-container-id-32 pre{padding: 0;}#sk-container-id-32 div.sk-toggleable {background-color: white;}#sk-container-id-32 label.sk-toggleable__label {cursor: pointer;display: block;width: 100%;margin-bottom: 0;padding: 0.3em;box-sizing: border-box;text-align: center;}#sk-container-id-32 label.sk-toggleable__label-arrow:before {content: \"▸\";float: left;margin-right: 0.25em;color: #696969;}#sk-container-id-32 label.sk-toggleable__label-arrow:hover:before {color: black;}#sk-container-id-32 div.sk-estimator:hover label.sk-toggleable__label-arrow:before {color: black;}#sk-container-id-32 div.sk-toggleable__content {max-height: 0;max-width: 0;overflow: hidden;text-align: left;background-color: #f0f8ff;}#sk-container-id-32 div.sk-toggleable__content pre {margin: 0.2em;color: black;border-radius: 0.25em;background-color: #f0f8ff;}#sk-container-id-32 input.sk-toggleable__control:checked~div.sk-toggleable__content {max-height: 200px;max-width: 100%;overflow: auto;}#sk-container-id-32 input.sk-toggleable__control:checked~label.sk-toggleable__label-arrow:before {content: \"▾\";}#sk-container-id-32 div.sk-estimator input.sk-toggleable__control:checked~label.sk-toggleable__label {background-color: #d4ebff;}#sk-container-id-32 div.sk-label input.sk-toggleable__control:checked~label.sk-toggleable__label {background-color: #d4ebff;}#sk-container-id-32 input.sk-hidden--visually {border: 0;clip: rect(1px 1px 1px 1px);clip: rect(1px, 1px, 1px, 1px);height: 1px;margin: -1px;overflow: hidden;padding: 0;position: absolute;width: 1px;}#sk-container-id-32 div.sk-estimator {font-family: monospace;background-color: #f0f8ff;border: 1px dotted black;border-radius: 0.25em;box-sizing: border-box;margin-bottom: 0.5em;}#sk-container-id-32 div.sk-estimator:hover {background-color: #d4ebff;}#sk-container-id-32 div.sk-parallel-item::after {content: \"\";width: 100%;border-bottom: 1px solid gray;flex-grow: 1;}#sk-container-id-32 div.sk-label:hover label.sk-toggleable__label {background-color: #d4ebff;}#sk-container-id-32 div.sk-serial::before {content: \"\";position: absolute;border-left: 1px solid gray;box-sizing: border-box;top: 0;bottom: 0;left: 50%;z-index: 0;}#sk-container-id-32 div.sk-serial {display: flex;flex-direction: column;align-items: center;background-color: white;padding-right: 0.2em;padding-left: 0.2em;position: relative;}#sk-container-id-32 div.sk-item {position: relative;z-index: 1;}#sk-container-id-32 div.sk-parallel {display: flex;align-items: stretch;justify-content: center;background-color: white;position: relative;}#sk-container-id-32 div.sk-item::before, #sk-container-id-32 div.sk-parallel-item::before {content: \"\";position: absolute;border-left: 1px solid gray;box-sizing: border-box;top: 0;bottom: 0;left: 50%;z-index: -1;}#sk-container-id-32 div.sk-parallel-item {display: flex;flex-direction: column;z-index: 1;position: relative;background-color: white;}#sk-container-id-32 div.sk-parallel-item:first-child::after {align-self: flex-end;width: 50%;}#sk-container-id-32 div.sk-parallel-item:last-child::after {align-self: flex-start;width: 50%;}#sk-container-id-32 div.sk-parallel-item:only-child::after {width: 0;}#sk-container-id-32 div.sk-dashed-wrapped {border: 1px dashed gray;margin: 0 0.4em 0.5em 0.4em;box-sizing: border-box;padding-bottom: 0.4em;background-color: white;}#sk-container-id-32 div.sk-label label {font-family: monospace;font-weight: bold;display: inline-block;line-height: 1.2em;}#sk-container-id-32 div.sk-label-container {text-align: center;}#sk-container-id-32 div.sk-container {/* jupyter's `normalize.less` sets `[hidden] { display: none; }` but bootstrap.min.css set `[hidden] { display: none !important; }` so we also need the `!important` here to be able to override the default hidden behavior on the sphinx rendered scikit-learn.org. See: https://github.com/scikit-learn/scikit-learn/issues/21755 */display: inline-block !important;position: relative;}#sk-container-id-32 div.sk-text-repr-fallback {display: none;}</style><div id=\"sk-container-id-32\" class=\"sk-top-container\"><div class=\"sk-text-repr-fallback\"><pre>RandomizedSearchCV(cv=3,\n",
       "                   estimator=RandomForestRegressor(n_jobs=-1, random_state=42),\n",
       "                   n_iter=2, n_jobs=-1,\n",
       "                   param_distributions={&#x27;max_depth&#x27;: [None, 10, 20, 30, 40, 50],\n",
       "                                        &#x27;max_features&#x27;: [1.0, &#x27;auto&#x27;, &#x27;sqrt&#x27;],\n",
       "                                        &#x27;min_samples_leaf&#x27;: &lt;scipy.stats._distn_infrastructure.rv_discrete_frozen object at 0x0000027A078FF290&gt;,\n",
       "                                        &#x27;min_samples_split&#x27;: &lt;scipy.stats._distn_infrastructure.rv_discrete_frozen object at 0x000002798EA73850&gt;,\n",
       "                                        &#x27;n_estimators&#x27;: &lt;scipy.stats._distn_infrastructure.rv_discrete_frozen object at 0x00000279EBF17BD0&gt;},\n",
       "                   random_state=42, scoring=&#x27;neg_mean_squared_error&#x27;,\n",
       "                   verbose=2)</pre><b>In a Jupyter environment, please rerun this cell to show the HTML representation or trust the notebook. <br />On GitHub, the HTML representation is unable to render, please try loading this page with nbviewer.org.</b></div><div class=\"sk-container\" hidden><div class=\"sk-item sk-dashed-wrapped\"><div class=\"sk-label-container\"><div class=\"sk-label sk-toggleable\"><input class=\"sk-toggleable__control sk-hidden--visually\" id=\"sk-estimator-id-36\" type=\"checkbox\" ><label for=\"sk-estimator-id-36\" class=\"sk-toggleable__label sk-toggleable__label-arrow\">RandomizedSearchCV</label><div class=\"sk-toggleable__content\"><pre>RandomizedSearchCV(cv=3,\n",
       "                   estimator=RandomForestRegressor(n_jobs=-1, random_state=42),\n",
       "                   n_iter=2, n_jobs=-1,\n",
       "                   param_distributions={&#x27;max_depth&#x27;: [None, 10, 20, 30, 40, 50],\n",
       "                                        &#x27;max_features&#x27;: [1.0, &#x27;auto&#x27;, &#x27;sqrt&#x27;],\n",
       "                                        &#x27;min_samples_leaf&#x27;: &lt;scipy.stats._distn_infrastructure.rv_discrete_frozen object at 0x0000027A078FF290&gt;,\n",
       "                                        &#x27;min_samples_split&#x27;: &lt;scipy.stats._distn_infrastructure.rv_discrete_frozen object at 0x000002798EA73850&gt;,\n",
       "                                        &#x27;n_estimators&#x27;: &lt;scipy.stats._distn_infrastructure.rv_discrete_frozen object at 0x00000279EBF17BD0&gt;},\n",
       "                   random_state=42, scoring=&#x27;neg_mean_squared_error&#x27;,\n",
       "                   verbose=2)</pre></div></div></div><div class=\"sk-parallel\"><div class=\"sk-parallel-item\"><div class=\"sk-item\"><div class=\"sk-label-container\"><div class=\"sk-label sk-toggleable\"><input class=\"sk-toggleable__control sk-hidden--visually\" id=\"sk-estimator-id-37\" type=\"checkbox\" ><label for=\"sk-estimator-id-37\" class=\"sk-toggleable__label sk-toggleable__label-arrow\">estimator: RandomForestRegressor</label><div class=\"sk-toggleable__content\"><pre>RandomForestRegressor(n_jobs=-1, random_state=42)</pre></div></div></div><div class=\"sk-serial\"><div class=\"sk-item\"><div class=\"sk-estimator sk-toggleable\"><input class=\"sk-toggleable__control sk-hidden--visually\" id=\"sk-estimator-id-38\" type=\"checkbox\" ><label for=\"sk-estimator-id-38\" class=\"sk-toggleable__label sk-toggleable__label-arrow\">RandomForestRegressor</label><div class=\"sk-toggleable__content\"><pre>RandomForestRegressor(n_jobs=-1, random_state=42)</pre></div></div></div></div></div></div></div></div></div></div>"
      ],
      "text/plain": [
       "RandomizedSearchCV(cv=3,\n",
       "                   estimator=RandomForestRegressor(n_jobs=-1, random_state=42),\n",
       "                   n_iter=2, n_jobs=-1,\n",
       "                   param_distributions={'max_depth': [None, 10, 20, 30, 40, 50],\n",
       "                                        'max_features': [1.0, 'auto', 'sqrt'],\n",
       "                                        'min_samples_leaf': <scipy.stats._distn_infrastructure.rv_discrete_frozen object at 0x0000027A078FF290>,\n",
       "                                        'min_samples_split': <scipy.stats._distn_infrastructure.rv_discrete_frozen object at 0x000002798EA73850>,\n",
       "                                        'n_estimators': <scipy.stats._distn_infrastructure.rv_discrete_frozen object at 0x00000279EBF17BD0>},\n",
       "                   random_state=42, scoring='neg_mean_squared_error',\n",
       "                   verbose=2)"
      ]
     },
     "execution_count": 624,
     "metadata": {},
     "output_type": "execute_result"
    }
   ],
   "source": [
    "# ~1 minute vs ~20 from doing a full gridsearch\n",
    "\n",
    "random_search.fit(X_train, y_train)"
   ]
  },
  {
   "cell_type": "code",
   "execution_count": 625,
   "metadata": {},
   "outputs": [],
   "source": [
    "best_regressor = random_search.best_estimator_"
   ]
  },
  {
   "cell_type": "code",
   "execution_count": 626,
   "metadata": {},
   "outputs": [
    {
     "name": "stdout",
     "output_type": "stream",
     "text": [
      "R2 0.975537579868969\n",
      "MAE 2156.232476670637\n",
      "MSE 12588472.064149737\n",
      "RMSE 3548.02368427125\n"
     ]
    }
   ],
   "source": [
    "y_pred_random = best_regressor.predict(X_test)\n",
    "\n",
    "r2_random = r2_score(y_test, y_pred)\n",
    "mae_random = mean_absolute_error(y_test, y_pred)\n",
    "mse_random = mean_squared_error(y_test, y_pred)\n",
    "rmse_random = math.sqrt(mse_random)\n",
    "\n",
    "print('R2', r2_random)\n",
    "print('MAE', mae_random)\n",
    "print('MSE', mse_random)\n",
    "print('RMSE', rmse_random)"
   ]
  },
  {
   "cell_type": "code",
   "execution_count": 627,
   "metadata": {},
   "outputs": [
    {
     "data": {
      "text/plain": [
       "[('class', 0.8992824354418298),\n",
       " ('duration', 0.056730223931158376),\n",
       " ('airline_Air India', 0.005151858637751967),\n",
       " ('airline_Vistara', 0.004840019399076697),\n",
       " ('from_Delhi', 0.004014608543304175),\n",
       " ('to_Delhi', 0.003466769965368832),\n",
       " ('stop', 0.0022109001215354857),\n",
       " ('from_Mumbai', 0.002196589171379314),\n",
       " ('to_Kolkata', 0.0019137708975364347),\n",
       " ('to_Mumbai', 0.0018037529984239514),\n",
       " ('from_Hyderabad', 0.001649827790082058),\n",
       " ('to_Hyderabad', 0.001642549753916289),\n",
       " ('from_Kolkata', 0.0016292837190067975),\n",
       " ('arr_timeframe_Early Morning', 0.0014188972839414464),\n",
       " ('dep_timeframe_Evening', 0.0014139722937805646),\n",
       " ('arr_timeframe_Afternoon', 0.0012930536452264625),\n",
       " ('to_Bangalore', 0.0010812626383312574),\n",
       " ('from_Bangalore', 0.0010061219862143715),\n",
       " ('arr_timeframe_Night', 0.0008760016757543486),\n",
       " ('from_Chennai', 0.0008505591139524535),\n",
       " ('dep_timeframe_Morning', 0.0007611867414386962),\n",
       " ('to_Chennai', 0.0007554412192406202),\n",
       " ('arr_timeframe_Evening', 0.0007507870513184646),\n",
       " ('dep_timeframe_Afternoon', 0.0006408921852815928),\n",
       " ('dep_timeframe_Early Morning', 0.0005832072515509508),\n",
       " ('airline_AirAsia', 0.0005579350099429315),\n",
       " ('dep_timeframe_Night', 0.0005128393870338494),\n",
       " ('arr_timeframe_Morning', 0.0003933732807980206),\n",
       " ('arr_timeframe_Late Night', 0.0002930575029067002),\n",
       " ('dep_timeframe_Late Night', 0.00010350805366214912),\n",
       " ('airline_Indigo', 7.355679916590852e-05),\n",
       " ('airline_GO FIRST', 6.52278402166188e-05),\n",
       " ('airline_SpiceJet', 3.533412739576105e-05),\n",
       " ('airline_StarAir', 9.697851371848205e-07),\n",
       " ('airline_Trujet', 2.247573392621265e-07)]"
      ]
     },
     "execution_count": 627,
     "metadata": {},
     "output_type": "execute_result"
    }
   ],
   "source": [
    "importances_rand = dict(zip(best_regressor.feature_names_in_, best_regressor.feature_importances_))\n",
    "sorted_importances_rand = sorted(importances_rand.items(), key = lambda x: x[1], reverse = True)\n",
    "\n",
    "sorted_importances_rand"
   ]
  },
  {
   "cell_type": "code",
   "execution_count": 628,
   "metadata": {},
   "outputs": [],
   "source": [
    "importance_df_rand = pd.DataFrame(data = sorted_importances_rand)"
   ]
  },
  {
   "cell_type": "code",
   "execution_count": 629,
   "metadata": {},
   "outputs": [
    {
     "data": {
      "text/html": [
       "<div>\n",
       "<style scoped>\n",
       "    .dataframe tbody tr th:only-of-type {\n",
       "        vertical-align: middle;\n",
       "    }\n",
       "\n",
       "    .dataframe tbody tr th {\n",
       "        vertical-align: top;\n",
       "    }\n",
       "\n",
       "    .dataframe thead th {\n",
       "        text-align: right;\n",
       "    }\n",
       "</style>\n",
       "<table border=\"1\" class=\"dataframe\">\n",
       "  <thead>\n",
       "    <tr style=\"text-align: right;\">\n",
       "      <th></th>\n",
       "      <th>0</th>\n",
       "      <th>1</th>\n",
       "    </tr>\n",
       "  </thead>\n",
       "  <tbody>\n",
       "    <tr>\n",
       "      <th>0</th>\n",
       "      <td>class</td>\n",
       "      <td>0.899282</td>\n",
       "    </tr>\n",
       "    <tr>\n",
       "      <th>1</th>\n",
       "      <td>duration</td>\n",
       "      <td>0.056730</td>\n",
       "    </tr>\n",
       "    <tr>\n",
       "      <th>2</th>\n",
       "      <td>airline_Air India</td>\n",
       "      <td>0.005152</td>\n",
       "    </tr>\n",
       "    <tr>\n",
       "      <th>3</th>\n",
       "      <td>airline_Vistara</td>\n",
       "      <td>0.004840</td>\n",
       "    </tr>\n",
       "    <tr>\n",
       "      <th>4</th>\n",
       "      <td>from_Delhi</td>\n",
       "      <td>0.004015</td>\n",
       "    </tr>\n",
       "  </tbody>\n",
       "</table>\n",
       "</div>"
      ],
      "text/plain": [
       "                   0         1\n",
       "0              class  0.899282\n",
       "1           duration  0.056730\n",
       "2  airline_Air India  0.005152\n",
       "3    airline_Vistara  0.004840\n",
       "4         from_Delhi  0.004015"
      ]
     },
     "execution_count": 629,
     "metadata": {},
     "output_type": "execute_result"
    }
   ],
   "source": [
    "importance_df_rand.head()"
   ]
  },
  {
   "cell_type": "code",
   "execution_count": 630,
   "metadata": {},
   "outputs": [
    {
     "data": {
      "image/png": "[encoded data removed]",
      "text/plain": [
       "<Figure size 1000x500 with 1 Axes>"
      ]
     },
     "metadata": {},
     "output_type": "display_data"
    }
   ],
   "source": [
    "fig, ax = plt.subplots(figsize=(10,5))\n",
    "sns.barplot(data = importance_df_500.head(5), x = 0, y = 1)\n",
    "plt.xlabel('Feature')\n",
    "plt.ylabel('Importance')\n",
    "plt.title('Feature Importance')\n",
    "plt.xticks(rotation = 45, horizontalalignment = 'right')\n",
    "\n",
    "for bars in ax.containers:\n",
    "    ax.bar_label(bars)\n",
    "\n",
    "plt.show()"
   ]
  },
  {
   "cell_type": "markdown",
   "metadata": {},
   "source": [
    "### Results"
   ]
  },
  {
   "cell_type": "code",
   "execution_count": 631,
   "metadata": {},
   "outputs": [],
   "source": [
    "results_dict = {'Metrics': ['R2','MAE','MSE','RMSE'],\n",
    "                'Original': [r2_0, mae_0, mse_0, rmse_0],\n",
    "                'n_est_300': [r2_300, mae_300, mse_300, rmse_300],\n",
    "                'n_est_500': [r2_500, mae_500, mse_500, rmse_500],\n",
    "                'Random_Search': [r2_random, mae_random, mse_random, rmse_random]\n",
    "                }\n",
    "\n",
    "df_results = pd.DataFrame(data = results_dict)"
   ]
  },
  {
   "cell_type": "code",
   "execution_count": 632,
   "metadata": {},
   "outputs": [],
   "source": [
    "pd.options.display.float_format = '{:.4f}'.format"
   ]
  },
  {
   "cell_type": "code",
   "execution_count": 633,
   "metadata": {},
   "outputs": [
    {
     "data": {
      "text/html": [
       "<div>\n",
       "<style scoped>\n",
       "    .dataframe tbody tr th:only-of-type {\n",
       "        vertical-align: middle;\n",
       "    }\n",
       "\n",
       "    .dataframe tbody tr th {\n",
       "        vertical-align: top;\n",
       "    }\n",
       "\n",
       "    .dataframe thead th {\n",
       "        text-align: right;\n",
       "    }\n",
       "</style>\n",
       "<table border=\"1\" class=\"dataframe\">\n",
       "  <thead>\n",
       "    <tr style=\"text-align: right;\">\n",
       "      <th></th>\n",
       "      <th>Metrics</th>\n",
       "      <th>Original</th>\n",
       "      <th>n_est_300</th>\n",
       "      <th>n_est_500</th>\n",
       "      <th>Random_Search</th>\n",
       "    </tr>\n",
       "  </thead>\n",
       "  <tbody>\n",
       "    <tr>\n",
       "      <th>0</th>\n",
       "      <td>R2</td>\n",
       "      <td>0.9755</td>\n",
       "      <td>0.9754</td>\n",
       "      <td>0.9754</td>\n",
       "      <td>0.9755</td>\n",
       "    </tr>\n",
       "    <tr>\n",
       "      <th>1</th>\n",
       "      <td>MAE</td>\n",
       "      <td>2156.2325</td>\n",
       "      <td>2159.8196</td>\n",
       "      <td>2159.3589</td>\n",
       "      <td>2156.2325</td>\n",
       "    </tr>\n",
       "    <tr>\n",
       "      <th>2</th>\n",
       "      <td>MSE</td>\n",
       "      <td>12588472.0641</td>\n",
       "      <td>12639505.4459</td>\n",
       "      <td>12633824.0939</td>\n",
       "      <td>12588472.0641</td>\n",
       "    </tr>\n",
       "    <tr>\n",
       "      <th>3</th>\n",
       "      <td>RMSE</td>\n",
       "      <td>3548.0237</td>\n",
       "      <td>3555.2082</td>\n",
       "      <td>3554.4091</td>\n",
       "      <td>3548.0237</td>\n",
       "    </tr>\n",
       "  </tbody>\n",
       "</table>\n",
       "</div>"
      ],
      "text/plain": [
       "  Metrics      Original     n_est_300     n_est_500  Random_Search\n",
       "0      R2        0.9755        0.9754        0.9754         0.9755\n",
       "1     MAE     2156.2325     2159.8196     2159.3589      2156.2325\n",
       "2     MSE 12588472.0641 12639505.4459 12633824.0939  12588472.0641\n",
       "3    RMSE     3548.0237     3555.2082     3554.4091      3548.0237"
      ]
     },
     "execution_count": 633,
     "metadata": {},
     "output_type": "execute_result"
    }
   ],
   "source": [
    "df_results"
   ]
  },
  {
   "cell_type": "markdown",
   "metadata": {},
   "source": [
    "Looking at the results of the different variances of the model, we see that there isn't much of an overall difference in the results. The mean squared errors look to be the most different but that is likely due to how large the number is to begin with. Other than that the other results don't different much."
   ]
  },
  {
   "cell_type": "code",
   "execution_count": 634,
   "metadata": {},
   "outputs": [
    {
     "data": {
      "image/png": "[encoded data removed]",
      "text/plain": [
       "<Figure size 3000x800 with 4 Axes>"
      ]
     },
     "metadata": {},
     "output_type": "display_data"
    }
   ],
   "source": [
    "figure, axes = plt.subplots(1,4, figsize = (30,8))\n",
    "\n",
    "axes[0].scatter(y_test, y_pred)\n",
    "axes[0].set_title('Predicted vs Actual Flight Prices')\n",
    "axes[0].set_xlabel('Actual Flight Prices')\n",
    "axes[0].set_ylabel('Predicted Flight Prices')\n",
    "\n",
    "\n",
    "axes[1].scatter(y_test, y_pred_300)\n",
    "axes[1].set_title('Predicted vs Actual Flight Prices n_est = 300')\n",
    "axes[1].set_xlabel('Actual Flight Prices')\n",
    "axes[1].set_ylabel('Predicted Flight Prices')\n",
    "\n",
    "axes[2].scatter(y_test, y_pred_500)\n",
    "axes[2].set_title('Predicted vs Actual Flight Prices n_est = 500')\n",
    "axes[2].set_xlabel('Actual Flight Prices')\n",
    "axes[2].set_ylabel('Predicted Flight Prices')\n",
    "\n",
    "\n",
    "axes[3].scatter(y_test, y_pred_random)\n",
    "axes[3].set_title('Predicted vs Actual Flight Prices Random Seach')\n",
    "axes[3].set_xlabel('Actual Flight Prices')\n",
    "axes[3].set_ylabel('Predicted Flight Prices')\n",
    "\n",
    "plt.show()"
   ]
  },
  {
   "cell_type": "markdown",
   "metadata": {},
   "source": [
    "They all look visually similar as well."
   ]
  },
  {
   "cell_type": "code",
   "execution_count": 635,
   "metadata": {},
   "outputs": [],
   "source": [
    "df_important_feature = pd.concat([importance_df, importance_df_300, importance_df_500, importance_df_rand], axis = 1)"
   ]
  },
  {
   "cell_type": "code",
   "execution_count": 636,
   "metadata": {},
   "outputs": [
    {
     "data": {
      "text/plain": [
       "Index([0, 1, 0, 1, 0, 1, 0, 1], dtype='int64')"
      ]
     },
     "execution_count": 636,
     "metadata": {},
     "output_type": "execute_result"
    }
   ],
   "source": [
    "df_important_feature.columns"
   ]
  },
  {
   "cell_type": "code",
   "execution_count": 637,
   "metadata": {},
   "outputs": [],
   "source": [
    "df_important_feature = df_important_feature.iloc[:, [0,1,3,5,7]]"
   ]
  },
  {
   "cell_type": "code",
   "execution_count": 638,
   "metadata": {},
   "outputs": [],
   "source": [
    "df_important_feature.columns = ['Feature', 'Original','n_est_300', 'n_est_500','Random_Search']"
   ]
  },
  {
   "cell_type": "code",
   "execution_count": 639,
   "metadata": {},
   "outputs": [
    {
     "data": {
      "text/html": [
       "<div>\n",
       "<style scoped>\n",
       "    .dataframe tbody tr th:only-of-type {\n",
       "        vertical-align: middle;\n",
       "    }\n",
       "\n",
       "    .dataframe tbody tr th {\n",
       "        vertical-align: top;\n",
       "    }\n",
       "\n",
       "    .dataframe thead th {\n",
       "        text-align: right;\n",
       "    }\n",
       "</style>\n",
       "<table border=\"1\" class=\"dataframe\">\n",
       "  <thead>\n",
       "    <tr style=\"text-align: right;\">\n",
       "      <th></th>\n",
       "      <th>Feature</th>\n",
       "      <th>Original</th>\n",
       "      <th>n_est_300</th>\n",
       "      <th>n_est_500</th>\n",
       "      <th>Random_Search</th>\n",
       "    </tr>\n",
       "  </thead>\n",
       "  <tbody>\n",
       "    <tr>\n",
       "      <th>0</th>\n",
       "      <td>class</td>\n",
       "      <td>0.8978</td>\n",
       "      <td>0.7801</td>\n",
       "      <td>0.7764</td>\n",
       "      <td>0.8993</td>\n",
       "    </tr>\n",
       "    <tr>\n",
       "      <th>1</th>\n",
       "      <td>duration</td>\n",
       "      <td>0.0577</td>\n",
       "      <td>0.0518</td>\n",
       "      <td>0.0493</td>\n",
       "      <td>0.0567</td>\n",
       "    </tr>\n",
       "    <tr>\n",
       "      <th>2</th>\n",
       "      <td>airline_Vistara</td>\n",
       "      <td>0.0058</td>\n",
       "      <td>0.0444</td>\n",
       "      <td>0.0487</td>\n",
       "      <td>0.0052</td>\n",
       "    </tr>\n",
       "    <tr>\n",
       "      <th>3</th>\n",
       "      <td>airline_Air India</td>\n",
       "      <td>0.0042</td>\n",
       "      <td>0.0254</td>\n",
       "      <td>0.0252</td>\n",
       "      <td>0.0048</td>\n",
       "    </tr>\n",
       "    <tr>\n",
       "      <th>4</th>\n",
       "      <td>from_Delhi</td>\n",
       "      <td>0.0041</td>\n",
       "      <td>0.0196</td>\n",
       "      <td>0.0204</td>\n",
       "      <td>0.0040</td>\n",
       "    </tr>\n",
       "  </tbody>\n",
       "</table>\n",
       "</div>"
      ],
      "text/plain": [
       "             Feature  Original  n_est_300  n_est_500  Random_Search\n",
       "0              class    0.8978     0.7801     0.7764         0.8993\n",
       "1           duration    0.0577     0.0518     0.0493         0.0567\n",
       "2    airline_Vistara    0.0058     0.0444     0.0487         0.0052\n",
       "3  airline_Air India    0.0042     0.0254     0.0252         0.0048\n",
       "4         from_Delhi    0.0041     0.0196     0.0204         0.0040"
      ]
     },
     "execution_count": 639,
     "metadata": {},
     "output_type": "execute_result"
    }
   ],
   "source": [
    "df_important_feature.head()"
   ]
  },
  {
   "cell_type": "markdown",
   "metadata": {},
   "source": [
    "I found that all models have the same top 5 important features with class being by far the most important. We do see that the n_est_300 and n_est_500 has a slighly lower class importance value and a higher airline_Air India and from_Delhi importance value."
   ]
  }
 ],
 "metadata": {
  "kernelspec": {
   "display_name": "Python 3",
   "language": "python",
   "name": "python3"
  },
  "language_info": {
   "codemirror_mode": {
    "name": "ipython",
    "version": 3
   },
   "file_extension": ".py",
   "mimetype": "text/x-python",
   "name": "python",
   "nbconvert_exporter": "python",
   "pygments_lexer": "ipython3",
   "version": "3.11.4"
  }
 },
 "nbformat": 4,
 "nbformat_minor": 2
}
